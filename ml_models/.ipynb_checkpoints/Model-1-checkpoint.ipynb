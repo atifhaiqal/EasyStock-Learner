{
 "cells": [
  {
   "cell_type": "markdown",
   "id": "77772da1-7772-45bc-b3c0-d0124fa2787d",
   "metadata": {},
   "source": [
    "# EasyStock Learner Machine Learning Model (Version 1)\n",
    "This file contains the data collection and training for the first prototype model for the machine learning part of the  project. \n",
    "\n",
    "Model:\n",
    "- XGBoost"
   ]
  },
  {
   "cell_type": "markdown",
   "id": "beeba2ee-e490-4463-a6d3-acb0bd44d24f",
   "metadata": {},
   "source": [
    "## Data Collection\n"
   ]
  },
  {
   "cell_type": "code",
   "execution_count": 1,
   "id": "d3fa83fd-090e-46ab-94ee-f280671e2382",
   "metadata": {},
   "outputs": [],
   "source": [
    "import yfinance as yf \n",
    "import pandas as pd\n",
    "\n",
    "ticker = yf.Ticker(\"AAPL\")"
   ]
  },
  {
   "cell_type": "code",
   "execution_count": 2,
   "id": "575d4175-0f3d-448a-aa4e-be2a5d5053e1",
   "metadata": {},
   "outputs": [],
   "source": [
    "recommendations = ticker.get_recommendations()\n",
    "income_statement = ticker.get_income_stmt()\n",
    "balance_sheet = tickers.get_balance_sheet()"
   ]
  },
  {
   "cell_type": "code",
   "execution_count": 4,
   "id": "382d4009-c944-413d-b75c-26856f21cf38",
   "metadata": {},
   "outputs": [
    {
     "data": {
      "text/html": [
       "<div>\n",
       "<style scoped>\n",
       "    .dataframe tbody tr th:only-of-type {\n",
       "        vertical-align: middle;\n",
       "    }\n",
       "\n",
       "    .dataframe tbody tr th {\n",
       "        vertical-align: top;\n",
       "    }\n",
       "\n",
       "    .dataframe thead th {\n",
       "        text-align: right;\n",
       "    }\n",
       "</style>\n",
       "<table border=\"1\" class=\"dataframe\">\n",
       "  <thead>\n",
       "    <tr style=\"text-align: right;\">\n",
       "      <th></th>\n",
       "      <th>period</th>\n",
       "      <th>strongBuy</th>\n",
       "      <th>buy</th>\n",
       "      <th>hold</th>\n",
       "      <th>sell</th>\n",
       "      <th>strongSell</th>\n",
       "    </tr>\n",
       "  </thead>\n",
       "  <tbody>\n",
       "    <tr>\n",
       "      <th>0</th>\n",
       "      <td>0m</td>\n",
       "      <td>7</td>\n",
       "      <td>21</td>\n",
       "      <td>14</td>\n",
       "      <td>2</td>\n",
       "      <td>2</td>\n",
       "    </tr>\n",
       "    <tr>\n",
       "      <th>1</th>\n",
       "      <td>-1m</td>\n",
       "      <td>8</td>\n",
       "      <td>21</td>\n",
       "      <td>13</td>\n",
       "      <td>2</td>\n",
       "      <td>2</td>\n",
       "    </tr>\n",
       "    <tr>\n",
       "      <th>2</th>\n",
       "      <td>-2m</td>\n",
       "      <td>8</td>\n",
       "      <td>24</td>\n",
       "      <td>12</td>\n",
       "      <td>1</td>\n",
       "      <td>2</td>\n",
       "    </tr>\n",
       "    <tr>\n",
       "      <th>3</th>\n",
       "      <td>-3m</td>\n",
       "      <td>8</td>\n",
       "      <td>24</td>\n",
       "      <td>12</td>\n",
       "      <td>1</td>\n",
       "      <td>2</td>\n",
       "    </tr>\n",
       "  </tbody>\n",
       "</table>\n",
       "</div>"
      ],
      "text/plain": [
       "  period  strongBuy  buy  hold  sell  strongSell\n",
       "0     0m          7   21    14     2           2\n",
       "1    -1m          8   21    13     2           2\n",
       "2    -2m          8   24    12     1           2\n",
       "3    -3m          8   24    12     1           2"
      ]
     },
     "execution_count": 4,
     "metadata": {},
     "output_type": "execute_result"
    }
   ],
   "source": [
    "recommendations"
   ]
  },
  {
   "cell_type": "code",
   "execution_count": 7,
   "id": "d1de8355-808b-49c8-8a2e-34964d28dd04",
   "metadata": {},
   "outputs": [
    {
     "data": {
      "text/html": [
       "<div>\n",
       "<style scoped>\n",
       "    .dataframe tbody tr th:only-of-type {\n",
       "        vertical-align: middle;\n",
       "    }\n",
       "\n",
       "    .dataframe tbody tr th {\n",
       "        vertical-align: top;\n",
       "    }\n",
       "\n",
       "    .dataframe thead th {\n",
       "        text-align: right;\n",
       "    }\n",
       "</style>\n",
       "<table border=\"1\" class=\"dataframe\">\n",
       "  <thead>\n",
       "    <tr style=\"text-align: right;\">\n",
       "      <th></th>\n",
       "      <th>2024-09-30</th>\n",
       "      <th>2023-09-30</th>\n",
       "      <th>2022-09-30</th>\n",
       "      <th>2021-09-30</th>\n",
       "      <th>2020-09-30</th>\n",
       "    </tr>\n",
       "  </thead>\n",
       "  <tbody>\n",
       "    <tr>\n",
       "      <th>TaxEffectOfUnusualItems</th>\n",
       "      <td>0.0</td>\n",
       "      <td>0.0</td>\n",
       "      <td>0.0</td>\n",
       "      <td>0.0</td>\n",
       "      <td>NaN</td>\n",
       "    </tr>\n",
       "    <tr>\n",
       "      <th>TaxRateForCalcs</th>\n",
       "      <td>0.241</td>\n",
       "      <td>0.147</td>\n",
       "      <td>0.162</td>\n",
       "      <td>0.133</td>\n",
       "      <td>NaN</td>\n",
       "    </tr>\n",
       "    <tr>\n",
       "      <th>NormalizedEBITDA</th>\n",
       "      <td>134661000000.0</td>\n",
       "      <td>125820000000.0</td>\n",
       "      <td>130541000000.0</td>\n",
       "      <td>123136000000.0</td>\n",
       "      <td>NaN</td>\n",
       "    </tr>\n",
       "    <tr>\n",
       "      <th>NetIncomeFromContinuingOperationNetMinorityInterest</th>\n",
       "      <td>93736000000.0</td>\n",
       "      <td>96995000000.0</td>\n",
       "      <td>99803000000.0</td>\n",
       "      <td>94680000000.0</td>\n",
       "      <td>NaN</td>\n",
       "    </tr>\n",
       "    <tr>\n",
       "      <th>ReconciledDepreciation</th>\n",
       "      <td>11445000000.0</td>\n",
       "      <td>11519000000.0</td>\n",
       "      <td>11104000000.0</td>\n",
       "      <td>11284000000.0</td>\n",
       "      <td>NaN</td>\n",
       "    </tr>\n",
       "    <tr>\n",
       "      <th>ReconciledCostOfRevenue</th>\n",
       "      <td>210352000000.0</td>\n",
       "      <td>214137000000.0</td>\n",
       "      <td>223546000000.0</td>\n",
       "      <td>212981000000.0</td>\n",
       "      <td>NaN</td>\n",
       "    </tr>\n",
       "    <tr>\n",
       "      <th>EBITDA</th>\n",
       "      <td>134661000000.0</td>\n",
       "      <td>125820000000.0</td>\n",
       "      <td>130541000000.0</td>\n",
       "      <td>123136000000.0</td>\n",
       "      <td>NaN</td>\n",
       "    </tr>\n",
       "    <tr>\n",
       "      <th>EBIT</th>\n",
       "      <td>123216000000.0</td>\n",
       "      <td>114301000000.0</td>\n",
       "      <td>119437000000.0</td>\n",
       "      <td>111852000000.0</td>\n",
       "      <td>NaN</td>\n",
       "    </tr>\n",
       "    <tr>\n",
       "      <th>NetInterestIncome</th>\n",
       "      <td>NaN</td>\n",
       "      <td>-183000000.0</td>\n",
       "      <td>-106000000.0</td>\n",
       "      <td>198000000.0</td>\n",
       "      <td>890000000.0</td>\n",
       "    </tr>\n",
       "    <tr>\n",
       "      <th>InterestExpense</th>\n",
       "      <td>NaN</td>\n",
       "      <td>3933000000.0</td>\n",
       "      <td>2931000000.0</td>\n",
       "      <td>2645000000.0</td>\n",
       "      <td>2873000000.0</td>\n",
       "    </tr>\n",
       "    <tr>\n",
       "      <th>InterestIncome</th>\n",
       "      <td>NaN</td>\n",
       "      <td>3750000000.0</td>\n",
       "      <td>2825000000.0</td>\n",
       "      <td>2843000000.0</td>\n",
       "      <td>3763000000.0</td>\n",
       "    </tr>\n",
       "    <tr>\n",
       "      <th>NormalizedIncome</th>\n",
       "      <td>93736000000.0</td>\n",
       "      <td>96995000000.0</td>\n",
       "      <td>99803000000.0</td>\n",
       "      <td>94680000000.0</td>\n",
       "      <td>NaN</td>\n",
       "    </tr>\n",
       "    <tr>\n",
       "      <th>NetIncomeFromContinuingAndDiscontinuedOperation</th>\n",
       "      <td>93736000000.0</td>\n",
       "      <td>96995000000.0</td>\n",
       "      <td>99803000000.0</td>\n",
       "      <td>94680000000.0</td>\n",
       "      <td>NaN</td>\n",
       "    </tr>\n",
       "    <tr>\n",
       "      <th>TotalExpenses</th>\n",
       "      <td>267819000000.0</td>\n",
       "      <td>268984000000.0</td>\n",
       "      <td>274891000000.0</td>\n",
       "      <td>256868000000.0</td>\n",
       "      <td>NaN</td>\n",
       "    </tr>\n",
       "    <tr>\n",
       "      <th>TotalOperatingIncomeAsReported</th>\n",
       "      <td>123216000000.0</td>\n",
       "      <td>114301000000.0</td>\n",
       "      <td>119437000000.0</td>\n",
       "      <td>108949000000.0</td>\n",
       "      <td>NaN</td>\n",
       "    </tr>\n",
       "    <tr>\n",
       "      <th>DilutedAverageShares</th>\n",
       "      <td>15408095000.0</td>\n",
       "      <td>15812547000.0</td>\n",
       "      <td>16325819000.0</td>\n",
       "      <td>16864919000.0</td>\n",
       "      <td>NaN</td>\n",
       "    </tr>\n",
       "    <tr>\n",
       "      <th>BasicAverageShares</th>\n",
       "      <td>15343783000.0</td>\n",
       "      <td>15744231000.0</td>\n",
       "      <td>16215963000.0</td>\n",
       "      <td>16701272000.0</td>\n",
       "      <td>NaN</td>\n",
       "    </tr>\n",
       "    <tr>\n",
       "      <th>DilutedEPS</th>\n",
       "      <td>6.08</td>\n",
       "      <td>6.13</td>\n",
       "      <td>6.11</td>\n",
       "      <td>5.61</td>\n",
       "      <td>NaN</td>\n",
       "    </tr>\n",
       "    <tr>\n",
       "      <th>BasicEPS</th>\n",
       "      <td>6.11</td>\n",
       "      <td>6.16</td>\n",
       "      <td>6.15</td>\n",
       "      <td>5.67</td>\n",
       "      <td>NaN</td>\n",
       "    </tr>\n",
       "    <tr>\n",
       "      <th>DilutedNIAvailtoComStockholders</th>\n",
       "      <td>93736000000.0</td>\n",
       "      <td>96995000000.0</td>\n",
       "      <td>99803000000.0</td>\n",
       "      <td>94680000000.0</td>\n",
       "      <td>NaN</td>\n",
       "    </tr>\n",
       "    <tr>\n",
       "      <th>NetIncomeCommonStockholders</th>\n",
       "      <td>93736000000.0</td>\n",
       "      <td>96995000000.0</td>\n",
       "      <td>99803000000.0</td>\n",
       "      <td>94680000000.0</td>\n",
       "      <td>NaN</td>\n",
       "    </tr>\n",
       "    <tr>\n",
       "      <th>NetIncome</th>\n",
       "      <td>93736000000.0</td>\n",
       "      <td>96995000000.0</td>\n",
       "      <td>99803000000.0</td>\n",
       "      <td>94680000000.0</td>\n",
       "      <td>NaN</td>\n",
       "    </tr>\n",
       "    <tr>\n",
       "      <th>NetIncomeIncludingNoncontrollingInterests</th>\n",
       "      <td>93736000000.0</td>\n",
       "      <td>96995000000.0</td>\n",
       "      <td>99803000000.0</td>\n",
       "      <td>94680000000.0</td>\n",
       "      <td>NaN</td>\n",
       "    </tr>\n",
       "    <tr>\n",
       "      <th>NetIncomeContinuousOperations</th>\n",
       "      <td>93736000000.0</td>\n",
       "      <td>96995000000.0</td>\n",
       "      <td>99803000000.0</td>\n",
       "      <td>94680000000.0</td>\n",
       "      <td>NaN</td>\n",
       "    </tr>\n",
       "    <tr>\n",
       "      <th>TaxProvision</th>\n",
       "      <td>29749000000.0</td>\n",
       "      <td>16741000000.0</td>\n",
       "      <td>19300000000.0</td>\n",
       "      <td>14527000000.0</td>\n",
       "      <td>NaN</td>\n",
       "    </tr>\n",
       "    <tr>\n",
       "      <th>PretaxIncome</th>\n",
       "      <td>123485000000.0</td>\n",
       "      <td>113736000000.0</td>\n",
       "      <td>119103000000.0</td>\n",
       "      <td>109207000000.0</td>\n",
       "      <td>NaN</td>\n",
       "    </tr>\n",
       "    <tr>\n",
       "      <th>OtherIncomeExpense</th>\n",
       "      <td>269000000.0</td>\n",
       "      <td>-565000000.0</td>\n",
       "      <td>-334000000.0</td>\n",
       "      <td>60000000.0</td>\n",
       "      <td>NaN</td>\n",
       "    </tr>\n",
       "    <tr>\n",
       "      <th>OtherNonOperatingIncomeExpenses</th>\n",
       "      <td>269000000.0</td>\n",
       "      <td>-565000000.0</td>\n",
       "      <td>-334000000.0</td>\n",
       "      <td>60000000.0</td>\n",
       "      <td>NaN</td>\n",
       "    </tr>\n",
       "    <tr>\n",
       "      <th>NetNonOperatingInterestIncomeExpense</th>\n",
       "      <td>NaN</td>\n",
       "      <td>-183000000.0</td>\n",
       "      <td>-106000000.0</td>\n",
       "      <td>198000000.0</td>\n",
       "      <td>890000000.0</td>\n",
       "    </tr>\n",
       "    <tr>\n",
       "      <th>InterestExpenseNonOperating</th>\n",
       "      <td>NaN</td>\n",
       "      <td>3933000000.0</td>\n",
       "      <td>2931000000.0</td>\n",
       "      <td>2645000000.0</td>\n",
       "      <td>2873000000.0</td>\n",
       "    </tr>\n",
       "    <tr>\n",
       "      <th>InterestIncomeNonOperating</th>\n",
       "      <td>NaN</td>\n",
       "      <td>3750000000.0</td>\n",
       "      <td>2825000000.0</td>\n",
       "      <td>2843000000.0</td>\n",
       "      <td>3763000000.0</td>\n",
       "    </tr>\n",
       "    <tr>\n",
       "      <th>OperatingIncome</th>\n",
       "      <td>123216000000.0</td>\n",
       "      <td>114301000000.0</td>\n",
       "      <td>119437000000.0</td>\n",
       "      <td>108949000000.0</td>\n",
       "      <td>NaN</td>\n",
       "    </tr>\n",
       "    <tr>\n",
       "      <th>OperatingExpense</th>\n",
       "      <td>57467000000.0</td>\n",
       "      <td>54847000000.0</td>\n",
       "      <td>51345000000.0</td>\n",
       "      <td>43887000000.0</td>\n",
       "      <td>NaN</td>\n",
       "    </tr>\n",
       "    <tr>\n",
       "      <th>ResearchAndDevelopment</th>\n",
       "      <td>31370000000.0</td>\n",
       "      <td>29915000000.0</td>\n",
       "      <td>26251000000.0</td>\n",
       "      <td>21914000000.0</td>\n",
       "      <td>NaN</td>\n",
       "    </tr>\n",
       "    <tr>\n",
       "      <th>SellingGeneralAndAdministration</th>\n",
       "      <td>26097000000.0</td>\n",
       "      <td>24932000000.0</td>\n",
       "      <td>25094000000.0</td>\n",
       "      <td>21973000000.0</td>\n",
       "      <td>NaN</td>\n",
       "    </tr>\n",
       "    <tr>\n",
       "      <th>GrossProfit</th>\n",
       "      <td>180683000000.0</td>\n",
       "      <td>169148000000.0</td>\n",
       "      <td>170782000000.0</td>\n",
       "      <td>152836000000.0</td>\n",
       "      <td>NaN</td>\n",
       "    </tr>\n",
       "    <tr>\n",
       "      <th>CostOfRevenue</th>\n",
       "      <td>210352000000.0</td>\n",
       "      <td>214137000000.0</td>\n",
       "      <td>223546000000.0</td>\n",
       "      <td>212981000000.0</td>\n",
       "      <td>NaN</td>\n",
       "    </tr>\n",
       "    <tr>\n",
       "      <th>TotalRevenue</th>\n",
       "      <td>391035000000.0</td>\n",
       "      <td>383285000000.0</td>\n",
       "      <td>394328000000.0</td>\n",
       "      <td>365817000000.0</td>\n",
       "      <td>NaN</td>\n",
       "    </tr>\n",
       "    <tr>\n",
       "      <th>OperatingRevenue</th>\n",
       "      <td>391035000000.0</td>\n",
       "      <td>383285000000.0</td>\n",
       "      <td>394328000000.0</td>\n",
       "      <td>365817000000.0</td>\n",
       "      <td>NaN</td>\n",
       "    </tr>\n",
       "  </tbody>\n",
       "</table>\n",
       "</div>"
      ],
      "text/plain": [
       "                                                        2024-09-30  \\\n",
       "TaxEffectOfUnusualItems                                        0.0   \n",
       "TaxRateForCalcs                                              0.241   \n",
       "NormalizedEBITDA                                    134661000000.0   \n",
       "NetIncomeFromContinuingOperationNetMinorityInte...   93736000000.0   \n",
       "ReconciledDepreciation                               11445000000.0   \n",
       "ReconciledCostOfRevenue                             210352000000.0   \n",
       "EBITDA                                              134661000000.0   \n",
       "EBIT                                                123216000000.0   \n",
       "NetInterestIncome                                              NaN   \n",
       "InterestExpense                                                NaN   \n",
       "InterestIncome                                                 NaN   \n",
       "NormalizedIncome                                     93736000000.0   \n",
       "NetIncomeFromContinuingAndDiscontinuedOperation      93736000000.0   \n",
       "TotalExpenses                                       267819000000.0   \n",
       "TotalOperatingIncomeAsReported                      123216000000.0   \n",
       "DilutedAverageShares                                 15408095000.0   \n",
       "BasicAverageShares                                   15343783000.0   \n",
       "DilutedEPS                                                    6.08   \n",
       "BasicEPS                                                      6.11   \n",
       "DilutedNIAvailtoComStockholders                      93736000000.0   \n",
       "NetIncomeCommonStockholders                          93736000000.0   \n",
       "NetIncome                                            93736000000.0   \n",
       "NetIncomeIncludingNoncontrollingInterests            93736000000.0   \n",
       "NetIncomeContinuousOperations                        93736000000.0   \n",
       "TaxProvision                                         29749000000.0   \n",
       "PretaxIncome                                        123485000000.0   \n",
       "OtherIncomeExpense                                     269000000.0   \n",
       "OtherNonOperatingIncomeExpenses                        269000000.0   \n",
       "NetNonOperatingInterestIncomeExpense                           NaN   \n",
       "InterestExpenseNonOperating                                    NaN   \n",
       "InterestIncomeNonOperating                                     NaN   \n",
       "OperatingIncome                                     123216000000.0   \n",
       "OperatingExpense                                     57467000000.0   \n",
       "ResearchAndDevelopment                               31370000000.0   \n",
       "SellingGeneralAndAdministration                      26097000000.0   \n",
       "GrossProfit                                         180683000000.0   \n",
       "CostOfRevenue                                       210352000000.0   \n",
       "TotalRevenue                                        391035000000.0   \n",
       "OperatingRevenue                                    391035000000.0   \n",
       "\n",
       "                                                        2023-09-30  \\\n",
       "TaxEffectOfUnusualItems                                        0.0   \n",
       "TaxRateForCalcs                                              0.147   \n",
       "NormalizedEBITDA                                    125820000000.0   \n",
       "NetIncomeFromContinuingOperationNetMinorityInte...   96995000000.0   \n",
       "ReconciledDepreciation                               11519000000.0   \n",
       "ReconciledCostOfRevenue                             214137000000.0   \n",
       "EBITDA                                              125820000000.0   \n",
       "EBIT                                                114301000000.0   \n",
       "NetInterestIncome                                     -183000000.0   \n",
       "InterestExpense                                       3933000000.0   \n",
       "InterestIncome                                        3750000000.0   \n",
       "NormalizedIncome                                     96995000000.0   \n",
       "NetIncomeFromContinuingAndDiscontinuedOperation      96995000000.0   \n",
       "TotalExpenses                                       268984000000.0   \n",
       "TotalOperatingIncomeAsReported                      114301000000.0   \n",
       "DilutedAverageShares                                 15812547000.0   \n",
       "BasicAverageShares                                   15744231000.0   \n",
       "DilutedEPS                                                    6.13   \n",
       "BasicEPS                                                      6.16   \n",
       "DilutedNIAvailtoComStockholders                      96995000000.0   \n",
       "NetIncomeCommonStockholders                          96995000000.0   \n",
       "NetIncome                                            96995000000.0   \n",
       "NetIncomeIncludingNoncontrollingInterests            96995000000.0   \n",
       "NetIncomeContinuousOperations                        96995000000.0   \n",
       "TaxProvision                                         16741000000.0   \n",
       "PretaxIncome                                        113736000000.0   \n",
       "OtherIncomeExpense                                    -565000000.0   \n",
       "OtherNonOperatingIncomeExpenses                       -565000000.0   \n",
       "NetNonOperatingInterestIncomeExpense                  -183000000.0   \n",
       "InterestExpenseNonOperating                           3933000000.0   \n",
       "InterestIncomeNonOperating                            3750000000.0   \n",
       "OperatingIncome                                     114301000000.0   \n",
       "OperatingExpense                                     54847000000.0   \n",
       "ResearchAndDevelopment                               29915000000.0   \n",
       "SellingGeneralAndAdministration                      24932000000.0   \n",
       "GrossProfit                                         169148000000.0   \n",
       "CostOfRevenue                                       214137000000.0   \n",
       "TotalRevenue                                        383285000000.0   \n",
       "OperatingRevenue                                    383285000000.0   \n",
       "\n",
       "                                                        2022-09-30  \\\n",
       "TaxEffectOfUnusualItems                                        0.0   \n",
       "TaxRateForCalcs                                              0.162   \n",
       "NormalizedEBITDA                                    130541000000.0   \n",
       "NetIncomeFromContinuingOperationNetMinorityInte...   99803000000.0   \n",
       "ReconciledDepreciation                               11104000000.0   \n",
       "ReconciledCostOfRevenue                             223546000000.0   \n",
       "EBITDA                                              130541000000.0   \n",
       "EBIT                                                119437000000.0   \n",
       "NetInterestIncome                                     -106000000.0   \n",
       "InterestExpense                                       2931000000.0   \n",
       "InterestIncome                                        2825000000.0   \n",
       "NormalizedIncome                                     99803000000.0   \n",
       "NetIncomeFromContinuingAndDiscontinuedOperation      99803000000.0   \n",
       "TotalExpenses                                       274891000000.0   \n",
       "TotalOperatingIncomeAsReported                      119437000000.0   \n",
       "DilutedAverageShares                                 16325819000.0   \n",
       "BasicAverageShares                                   16215963000.0   \n",
       "DilutedEPS                                                    6.11   \n",
       "BasicEPS                                                      6.15   \n",
       "DilutedNIAvailtoComStockholders                      99803000000.0   \n",
       "NetIncomeCommonStockholders                          99803000000.0   \n",
       "NetIncome                                            99803000000.0   \n",
       "NetIncomeIncludingNoncontrollingInterests            99803000000.0   \n",
       "NetIncomeContinuousOperations                        99803000000.0   \n",
       "TaxProvision                                         19300000000.0   \n",
       "PretaxIncome                                        119103000000.0   \n",
       "OtherIncomeExpense                                    -334000000.0   \n",
       "OtherNonOperatingIncomeExpenses                       -334000000.0   \n",
       "NetNonOperatingInterestIncomeExpense                  -106000000.0   \n",
       "InterestExpenseNonOperating                           2931000000.0   \n",
       "InterestIncomeNonOperating                            2825000000.0   \n",
       "OperatingIncome                                     119437000000.0   \n",
       "OperatingExpense                                     51345000000.0   \n",
       "ResearchAndDevelopment                               26251000000.0   \n",
       "SellingGeneralAndAdministration                      25094000000.0   \n",
       "GrossProfit                                         170782000000.0   \n",
       "CostOfRevenue                                       223546000000.0   \n",
       "TotalRevenue                                        394328000000.0   \n",
       "OperatingRevenue                                    394328000000.0   \n",
       "\n",
       "                                                        2021-09-30  \\\n",
       "TaxEffectOfUnusualItems                                        0.0   \n",
       "TaxRateForCalcs                                              0.133   \n",
       "NormalizedEBITDA                                    123136000000.0   \n",
       "NetIncomeFromContinuingOperationNetMinorityInte...   94680000000.0   \n",
       "ReconciledDepreciation                               11284000000.0   \n",
       "ReconciledCostOfRevenue                             212981000000.0   \n",
       "EBITDA                                              123136000000.0   \n",
       "EBIT                                                111852000000.0   \n",
       "NetInterestIncome                                      198000000.0   \n",
       "InterestExpense                                       2645000000.0   \n",
       "InterestIncome                                        2843000000.0   \n",
       "NormalizedIncome                                     94680000000.0   \n",
       "NetIncomeFromContinuingAndDiscontinuedOperation      94680000000.0   \n",
       "TotalExpenses                                       256868000000.0   \n",
       "TotalOperatingIncomeAsReported                      108949000000.0   \n",
       "DilutedAverageShares                                 16864919000.0   \n",
       "BasicAverageShares                                   16701272000.0   \n",
       "DilutedEPS                                                    5.61   \n",
       "BasicEPS                                                      5.67   \n",
       "DilutedNIAvailtoComStockholders                      94680000000.0   \n",
       "NetIncomeCommonStockholders                          94680000000.0   \n",
       "NetIncome                                            94680000000.0   \n",
       "NetIncomeIncludingNoncontrollingInterests            94680000000.0   \n",
       "NetIncomeContinuousOperations                        94680000000.0   \n",
       "TaxProvision                                         14527000000.0   \n",
       "PretaxIncome                                        109207000000.0   \n",
       "OtherIncomeExpense                                      60000000.0   \n",
       "OtherNonOperatingIncomeExpenses                         60000000.0   \n",
       "NetNonOperatingInterestIncomeExpense                   198000000.0   \n",
       "InterestExpenseNonOperating                           2645000000.0   \n",
       "InterestIncomeNonOperating                            2843000000.0   \n",
       "OperatingIncome                                     108949000000.0   \n",
       "OperatingExpense                                     43887000000.0   \n",
       "ResearchAndDevelopment                               21914000000.0   \n",
       "SellingGeneralAndAdministration                      21973000000.0   \n",
       "GrossProfit                                         152836000000.0   \n",
       "CostOfRevenue                                       212981000000.0   \n",
       "TotalRevenue                                        365817000000.0   \n",
       "OperatingRevenue                                    365817000000.0   \n",
       "\n",
       "                                                      2020-09-30  \n",
       "TaxEffectOfUnusualItems                                      NaN  \n",
       "TaxRateForCalcs                                              NaN  \n",
       "NormalizedEBITDA                                             NaN  \n",
       "NetIncomeFromContinuingOperationNetMinorityInte...           NaN  \n",
       "ReconciledDepreciation                                       NaN  \n",
       "ReconciledCostOfRevenue                                      NaN  \n",
       "EBITDA                                                       NaN  \n",
       "EBIT                                                         NaN  \n",
       "NetInterestIncome                                    890000000.0  \n",
       "InterestExpense                                     2873000000.0  \n",
       "InterestIncome                                      3763000000.0  \n",
       "NormalizedIncome                                             NaN  \n",
       "NetIncomeFromContinuingAndDiscontinuedOperation              NaN  \n",
       "TotalExpenses                                                NaN  \n",
       "TotalOperatingIncomeAsReported                               NaN  \n",
       "DilutedAverageShares                                         NaN  \n",
       "BasicAverageShares                                           NaN  \n",
       "DilutedEPS                                                   NaN  \n",
       "BasicEPS                                                     NaN  \n",
       "DilutedNIAvailtoComStockholders                              NaN  \n",
       "NetIncomeCommonStockholders                                  NaN  \n",
       "NetIncome                                                    NaN  \n",
       "NetIncomeIncludingNoncontrollingInterests                    NaN  \n",
       "NetIncomeContinuousOperations                                NaN  \n",
       "TaxProvision                                                 NaN  \n",
       "PretaxIncome                                                 NaN  \n",
       "OtherIncomeExpense                                           NaN  \n",
       "OtherNonOperatingIncomeExpenses                              NaN  \n",
       "NetNonOperatingInterestIncomeExpense                 890000000.0  \n",
       "InterestExpenseNonOperating                         2873000000.0  \n",
       "InterestIncomeNonOperating                          3763000000.0  \n",
       "OperatingIncome                                              NaN  \n",
       "OperatingExpense                                             NaN  \n",
       "ResearchAndDevelopment                                       NaN  \n",
       "SellingGeneralAndAdministration                              NaN  \n",
       "GrossProfit                                                  NaN  \n",
       "CostOfRevenue                                                NaN  \n",
       "TotalRevenue                                                 NaN  \n",
       "OperatingRevenue                                             NaN  "
      ]
     },
     "execution_count": 7,
     "metadata": {},
     "output_type": "execute_result"
    }
   ],
   "source": [
    "income_statement"
   ]
  },
  {
   "cell_type": "code",
   "execution_count": 9,
   "id": "c33c5047-b4a6-470a-b9c1-b10bd976d2ee",
   "metadata": {},
   "outputs": [
    {
     "data": {
      "text/html": [
       "<div>\n",
       "<style scoped>\n",
       "    .dataframe tbody tr th:only-of-type {\n",
       "        vertical-align: middle;\n",
       "    }\n",
       "\n",
       "    .dataframe tbody tr th {\n",
       "        vertical-align: top;\n",
       "    }\n",
       "\n",
       "    .dataframe thead th {\n",
       "        text-align: right;\n",
       "    }\n",
       "</style>\n",
       "<table border=\"1\" class=\"dataframe\">\n",
       "  <thead>\n",
       "    <tr style=\"text-align: right;\">\n",
       "      <th></th>\n",
       "      <th>2024-09-30</th>\n",
       "      <th>2023-09-30</th>\n",
       "      <th>2022-09-30</th>\n",
       "      <th>2021-09-30</th>\n",
       "      <th>2020-09-30</th>\n",
       "    </tr>\n",
       "  </thead>\n",
       "  <tbody>\n",
       "    <tr>\n",
       "      <th>EBIT</th>\n",
       "      <td>123216000000.0</td>\n",
       "      <td>114301000000.0</td>\n",
       "      <td>119437000000.0</td>\n",
       "      <td>111852000000.0</td>\n",
       "      <td>NaN</td>\n",
       "    </tr>\n",
       "    <tr>\n",
       "      <th>EBITDA</th>\n",
       "      <td>134661000000.0</td>\n",
       "      <td>125820000000.0</td>\n",
       "      <td>130541000000.0</td>\n",
       "      <td>123136000000.0</td>\n",
       "      <td>NaN</td>\n",
       "    </tr>\n",
       "    <tr>\n",
       "      <th>DilutedEPS</th>\n",
       "      <td>6.08</td>\n",
       "      <td>6.13</td>\n",
       "      <td>6.11</td>\n",
       "      <td>5.61</td>\n",
       "      <td>NaN</td>\n",
       "    </tr>\n",
       "    <tr>\n",
       "      <th>BasicEPS</th>\n",
       "      <td>6.11</td>\n",
       "      <td>6.16</td>\n",
       "      <td>6.15</td>\n",
       "      <td>5.67</td>\n",
       "      <td>NaN</td>\n",
       "    </tr>\n",
       "    <tr>\n",
       "      <th>NetIncome</th>\n",
       "      <td>93736000000.0</td>\n",
       "      <td>96995000000.0</td>\n",
       "      <td>99803000000.0</td>\n",
       "      <td>94680000000.0</td>\n",
       "      <td>NaN</td>\n",
       "    </tr>\n",
       "    <tr>\n",
       "      <th>GrossProfit</th>\n",
       "      <td>180683000000.0</td>\n",
       "      <td>169148000000.0</td>\n",
       "      <td>170782000000.0</td>\n",
       "      <td>152836000000.0</td>\n",
       "      <td>NaN</td>\n",
       "    </tr>\n",
       "    <tr>\n",
       "      <th>OperatingRevenue</th>\n",
       "      <td>391035000000.0</td>\n",
       "      <td>383285000000.0</td>\n",
       "      <td>394328000000.0</td>\n",
       "      <td>365817000000.0</td>\n",
       "      <td>NaN</td>\n",
       "    </tr>\n",
       "    <tr>\n",
       "      <th>TotalRevenue</th>\n",
       "      <td>391035000000.0</td>\n",
       "      <td>383285000000.0</td>\n",
       "      <td>394328000000.0</td>\n",
       "      <td>365817000000.0</td>\n",
       "      <td>NaN</td>\n",
       "    </tr>\n",
       "  </tbody>\n",
       "</table>\n",
       "</div>"
      ],
      "text/plain": [
       "                      2024-09-30      2023-09-30      2022-09-30  \\\n",
       "EBIT              123216000000.0  114301000000.0  119437000000.0   \n",
       "EBITDA            134661000000.0  125820000000.0  130541000000.0   \n",
       "DilutedEPS                  6.08            6.13            6.11   \n",
       "BasicEPS                    6.11            6.16            6.15   \n",
       "NetIncome          93736000000.0   96995000000.0   99803000000.0   \n",
       "GrossProfit       180683000000.0  169148000000.0  170782000000.0   \n",
       "OperatingRevenue  391035000000.0  383285000000.0  394328000000.0   \n",
       "TotalRevenue      391035000000.0  383285000000.0  394328000000.0   \n",
       "\n",
       "                      2021-09-30 2020-09-30  \n",
       "EBIT              111852000000.0        NaN  \n",
       "EBITDA            123136000000.0        NaN  \n",
       "DilutedEPS                  5.61        NaN  \n",
       "BasicEPS                    5.67        NaN  \n",
       "NetIncome          94680000000.0        NaN  \n",
       "GrossProfit       152836000000.0        NaN  \n",
       "OperatingRevenue  365817000000.0        NaN  \n",
       "TotalRevenue      365817000000.0        NaN  "
      ]
     },
     "execution_count": 9,
     "metadata": {},
     "output_type": "execute_result"
    }
   ],
   "source": [
    "refined_statement = income_statement.loc[['EBIT','EBITDA','DilutedEPS','BasicEPS','NetIncome','GrossProfit','OperatingRevenue','TotalRevenue']]\n",
    "refined_statement"
   ]
  },
  {
   "cell_type": "code",
   "execution_count": 81,
   "id": "c2b5dac6-7daa-4992-a3bf-9ed7a2d9104e",
   "metadata": {},
   "outputs": [],
   "source": [
    "# Function to get S&P 500 tickers\n",
    "def get_sp500_tickers():\n",
    "    sp500_url = \"https://en.wikipedia.org/wiki/List_of_S%26P_500_companies\"\n",
    "    tables = pd.read_html(sp500_url)\n",
    "    tickers = tables[0]['Symbol'].tolist()\n",
    "    return tickers"
   ]
  },
  {
   "cell_type": "code",
   "execution_count": 95,
   "id": "f97da158-8c0c-470c-82a7-b02ea5be30ed",
   "metadata": {},
   "outputs": [
    {
     "data": {
      "text/plain": [
       "['MMM',\n",
       " 'AOS',\n",
       " 'ABT',\n",
       " 'ABBV',\n",
       " 'ACN',\n",
       " 'ADBE',\n",
       " 'AMD',\n",
       " 'AES',\n",
       " 'AFL',\n",
       " 'A',\n",
       " 'APD',\n",
       " 'ABNB',\n",
       " 'AKAM',\n",
       " 'ALB',\n",
       " 'ARE',\n",
       " 'ALGN',\n",
       " 'ALLE',\n",
       " 'LNT',\n",
       " 'ALL',\n",
       " 'GOOGL',\n",
       " 'GOOG',\n",
       " 'MO',\n",
       " 'AMZN',\n",
       " 'AMCR',\n",
       " 'AEE',\n",
       " 'AEP',\n",
       " 'AXP',\n",
       " 'AIG',\n",
       " 'AMT',\n",
       " 'AWK',\n",
       " 'AMP',\n",
       " 'AME',\n",
       " 'AMGN',\n",
       " 'APH',\n",
       " 'ADI',\n",
       " 'ANSS',\n",
       " 'AON',\n",
       " 'APA',\n",
       " 'APO',\n",
       " 'AAPL',\n",
       " 'AMAT',\n",
       " 'APTV',\n",
       " 'ACGL',\n",
       " 'ADM',\n",
       " 'ANET',\n",
       " 'AJG',\n",
       " 'AIZ',\n",
       " 'T',\n",
       " 'ATO',\n",
       " 'ADSK',\n",
       " 'ADP',\n",
       " 'AZO',\n",
       " 'AVB',\n",
       " 'AVY',\n",
       " 'AXON',\n",
       " 'BKR',\n",
       " 'BALL',\n",
       " 'BAC',\n",
       " 'BAX',\n",
       " 'BDX',\n",
       " 'BRK.B',\n",
       " 'BBY',\n",
       " 'TECH',\n",
       " 'BIIB',\n",
       " 'BLK',\n",
       " 'BX',\n",
       " 'BK',\n",
       " 'BA',\n",
       " 'BKNG',\n",
       " 'BWA',\n",
       " 'BSX',\n",
       " 'BMY',\n",
       " 'AVGO',\n",
       " 'BR',\n",
       " 'BRO',\n",
       " 'BF.B',\n",
       " 'BLDR',\n",
       " 'BG',\n",
       " 'BXP',\n",
       " 'CHRW',\n",
       " 'CDNS',\n",
       " 'CZR',\n",
       " 'CPT',\n",
       " 'CPB',\n",
       " 'COF',\n",
       " 'CAH',\n",
       " 'KMX',\n",
       " 'CCL',\n",
       " 'CARR',\n",
       " 'CAT',\n",
       " 'CBOE',\n",
       " 'CBRE',\n",
       " 'CDW',\n",
       " 'CE',\n",
       " 'COR',\n",
       " 'CNC',\n",
       " 'CNP',\n",
       " 'CF',\n",
       " 'CRL',\n",
       " 'SCHW',\n",
       " 'CHTR',\n",
       " 'CVX',\n",
       " 'CMG',\n",
       " 'CB',\n",
       " 'CHD',\n",
       " 'CI',\n",
       " 'CINF',\n",
       " 'CTAS',\n",
       " 'CSCO',\n",
       " 'C',\n",
       " 'CFG',\n",
       " 'CLX',\n",
       " 'CME',\n",
       " 'CMS',\n",
       " 'KO',\n",
       " 'CTSH',\n",
       " 'CL',\n",
       " 'CMCSA',\n",
       " 'CAG',\n",
       " 'COP',\n",
       " 'ED',\n",
       " 'STZ',\n",
       " 'CEG',\n",
       " 'COO',\n",
       " 'CPRT',\n",
       " 'GLW',\n",
       " 'CPAY',\n",
       " 'CTVA',\n",
       " 'CSGP',\n",
       " 'COST',\n",
       " 'CTRA',\n",
       " 'CRWD',\n",
       " 'CCI',\n",
       " 'CSX',\n",
       " 'CMI',\n",
       " 'CVS',\n",
       " 'DHR',\n",
       " 'DRI',\n",
       " 'DVA',\n",
       " 'DAY',\n",
       " 'DECK',\n",
       " 'DE',\n",
       " 'DELL',\n",
       " 'DAL',\n",
       " 'DVN',\n",
       " 'DXCM',\n",
       " 'FANG',\n",
       " 'DLR',\n",
       " 'DFS',\n",
       " 'DG',\n",
       " 'DLTR',\n",
       " 'D',\n",
       " 'DPZ',\n",
       " 'DOV',\n",
       " 'DOW',\n",
       " 'DHI',\n",
       " 'DTE',\n",
       " 'DUK',\n",
       " 'DD',\n",
       " 'EMN',\n",
       " 'ETN',\n",
       " 'EBAY',\n",
       " 'ECL',\n",
       " 'EIX',\n",
       " 'EW',\n",
       " 'EA',\n",
       " 'ELV',\n",
       " 'EMR',\n",
       " 'ENPH',\n",
       " 'ETR',\n",
       " 'EOG',\n",
       " 'EPAM',\n",
       " 'EQT',\n",
       " 'EFX',\n",
       " 'EQIX',\n",
       " 'EQR',\n",
       " 'ERIE',\n",
       " 'ESS',\n",
       " 'EL',\n",
       " 'EG',\n",
       " 'EVRG',\n",
       " 'ES',\n",
       " 'EXC',\n",
       " 'EXPE',\n",
       " 'EXPD',\n",
       " 'EXR',\n",
       " 'XOM',\n",
       " 'FFIV',\n",
       " 'FDS',\n",
       " 'FICO',\n",
       " 'FAST',\n",
       " 'FRT',\n",
       " 'FDX',\n",
       " 'FIS',\n",
       " 'FITB',\n",
       " 'FSLR',\n",
       " 'FE',\n",
       " 'FI',\n",
       " 'FMC',\n",
       " 'F',\n",
       " 'FTNT',\n",
       " 'FTV',\n",
       " 'FOXA',\n",
       " 'FOX',\n",
       " 'BEN',\n",
       " 'FCX',\n",
       " 'GRMN',\n",
       " 'IT',\n",
       " 'GE',\n",
       " 'GEHC',\n",
       " 'GEV',\n",
       " 'GEN',\n",
       " 'GNRC',\n",
       " 'GD',\n",
       " 'GIS',\n",
       " 'GM',\n",
       " 'GPC',\n",
       " 'GILD',\n",
       " 'GPN',\n",
       " 'GL',\n",
       " 'GDDY',\n",
       " 'GS',\n",
       " 'HAL',\n",
       " 'HIG',\n",
       " 'HAS',\n",
       " 'HCA',\n",
       " 'DOC',\n",
       " 'HSIC',\n",
       " 'HSY',\n",
       " 'HES',\n",
       " 'HPE',\n",
       " 'HLT',\n",
       " 'HOLX',\n",
       " 'HD',\n",
       " 'HON',\n",
       " 'HRL',\n",
       " 'HST',\n",
       " 'HWM',\n",
       " 'HPQ',\n",
       " 'HUBB',\n",
       " 'HUM',\n",
       " 'HBAN',\n",
       " 'HII',\n",
       " 'IBM',\n",
       " 'IEX',\n",
       " 'IDXX',\n",
       " 'ITW',\n",
       " 'INCY',\n",
       " 'IR',\n",
       " 'PODD',\n",
       " 'INTC',\n",
       " 'ICE',\n",
       " 'IFF',\n",
       " 'IP',\n",
       " 'IPG',\n",
       " 'INTU',\n",
       " 'ISRG',\n",
       " 'IVZ',\n",
       " 'INVH',\n",
       " 'IQV',\n",
       " 'IRM',\n",
       " 'JBHT',\n",
       " 'JBL',\n",
       " 'JKHY',\n",
       " 'J',\n",
       " 'JNJ',\n",
       " 'JCI',\n",
       " 'JPM',\n",
       " 'JNPR',\n",
       " 'K',\n",
       " 'KVUE',\n",
       " 'KDP',\n",
       " 'KEY',\n",
       " 'KEYS',\n",
       " 'KMB',\n",
       " 'KIM',\n",
       " 'KMI',\n",
       " 'KKR',\n",
       " 'KLAC',\n",
       " 'KHC',\n",
       " 'KR',\n",
       " 'LHX',\n",
       " 'LH',\n",
       " 'LRCX',\n",
       " 'LW',\n",
       " 'LVS',\n",
       " 'LDOS',\n",
       " 'LEN',\n",
       " 'LII',\n",
       " 'LLY',\n",
       " 'LIN',\n",
       " 'LYV',\n",
       " 'LKQ',\n",
       " 'LMT',\n",
       " 'L',\n",
       " 'LOW',\n",
       " 'LULU',\n",
       " 'LYB',\n",
       " 'MTB',\n",
       " 'MPC',\n",
       " 'MKTX',\n",
       " 'MAR',\n",
       " 'MMC',\n",
       " 'MLM',\n",
       " 'MAS',\n",
       " 'MA',\n",
       " 'MTCH',\n",
       " 'MKC',\n",
       " 'MCD',\n",
       " 'MCK',\n",
       " 'MDT',\n",
       " 'MRK',\n",
       " 'META',\n",
       " 'MET',\n",
       " 'MTD',\n",
       " 'MGM',\n",
       " 'MCHP',\n",
       " 'MU',\n",
       " 'MSFT',\n",
       " 'MAA',\n",
       " 'MRNA',\n",
       " 'MHK',\n",
       " 'MOH',\n",
       " 'TAP',\n",
       " 'MDLZ',\n",
       " 'MPWR',\n",
       " 'MNST',\n",
       " 'MCO',\n",
       " 'MS',\n",
       " 'MOS',\n",
       " 'MSI',\n",
       " 'MSCI',\n",
       " 'NDAQ',\n",
       " 'NTAP',\n",
       " 'NFLX',\n",
       " 'NEM',\n",
       " 'NWSA',\n",
       " 'NWS',\n",
       " 'NEE',\n",
       " 'NKE',\n",
       " 'NI',\n",
       " 'NDSN',\n",
       " 'NSC',\n",
       " 'NTRS',\n",
       " 'NOC',\n",
       " 'NCLH',\n",
       " 'NRG',\n",
       " 'NUE',\n",
       " 'NVDA',\n",
       " 'NVR',\n",
       " 'NXPI',\n",
       " 'ORLY',\n",
       " 'OXY',\n",
       " 'ODFL',\n",
       " 'OMC',\n",
       " 'ON',\n",
       " 'OKE',\n",
       " 'ORCL',\n",
       " 'OTIS',\n",
       " 'PCAR',\n",
       " 'PKG',\n",
       " 'PLTR',\n",
       " 'PANW',\n",
       " 'PARA',\n",
       " 'PH',\n",
       " 'PAYX',\n",
       " 'PAYC',\n",
       " 'PYPL',\n",
       " 'PNR',\n",
       " 'PEP',\n",
       " 'PFE',\n",
       " 'PCG',\n",
       " 'PM',\n",
       " 'PSX',\n",
       " 'PNW',\n",
       " 'PNC',\n",
       " 'POOL',\n",
       " 'PPG',\n",
       " 'PPL',\n",
       " 'PFG',\n",
       " 'PG',\n",
       " 'PGR',\n",
       " 'PLD',\n",
       " 'PRU',\n",
       " 'PEG',\n",
       " 'PTC',\n",
       " 'PSA',\n",
       " 'PHM',\n",
       " 'PWR',\n",
       " 'QCOM',\n",
       " 'DGX',\n",
       " 'RL',\n",
       " 'RJF',\n",
       " 'RTX',\n",
       " 'O',\n",
       " 'REG',\n",
       " 'REGN',\n",
       " 'RF',\n",
       " 'RSG',\n",
       " 'RMD',\n",
       " 'RVTY',\n",
       " 'ROK',\n",
       " 'ROL',\n",
       " 'ROP',\n",
       " 'ROST',\n",
       " 'RCL',\n",
       " 'SPGI',\n",
       " 'CRM',\n",
       " 'SBAC',\n",
       " 'SLB',\n",
       " 'STX',\n",
       " 'SRE',\n",
       " 'NOW',\n",
       " 'SHW',\n",
       " 'SPG',\n",
       " 'SWKS',\n",
       " 'SJM',\n",
       " 'SW',\n",
       " 'SNA',\n",
       " 'SOLV',\n",
       " 'SO',\n",
       " 'LUV',\n",
       " 'SWK',\n",
       " 'SBUX',\n",
       " 'STT',\n",
       " 'STLD',\n",
       " 'STE',\n",
       " 'SYK',\n",
       " 'SMCI',\n",
       " 'SYF',\n",
       " 'SNPS',\n",
       " 'SYY',\n",
       " 'TMUS',\n",
       " 'TROW',\n",
       " 'TTWO',\n",
       " 'TPR',\n",
       " 'TRGP',\n",
       " 'TGT',\n",
       " 'TEL',\n",
       " 'TDY',\n",
       " 'TFX',\n",
       " 'TER',\n",
       " 'TSLA',\n",
       " 'TXN',\n",
       " 'TPL',\n",
       " 'TXT',\n",
       " 'TMO',\n",
       " 'TJX',\n",
       " 'TSCO',\n",
       " 'TT',\n",
       " 'TDG',\n",
       " 'TRV',\n",
       " 'TRMB',\n",
       " 'TFC',\n",
       " 'TYL',\n",
       " 'TSN',\n",
       " 'USB',\n",
       " 'UBER',\n",
       " 'UDR',\n",
       " 'ULTA',\n",
       " 'UNP',\n",
       " 'UAL',\n",
       " 'UPS',\n",
       " 'URI',\n",
       " 'UNH',\n",
       " 'UHS',\n",
       " 'VLO',\n",
       " 'VTR',\n",
       " 'VLTO',\n",
       " 'VRSN',\n",
       " 'VRSK',\n",
       " 'VZ',\n",
       " 'VRTX',\n",
       " 'VTRS',\n",
       " 'VICI',\n",
       " 'V',\n",
       " 'VST',\n",
       " 'VMC',\n",
       " 'WRB',\n",
       " 'GWW',\n",
       " 'WAB',\n",
       " 'WBA',\n",
       " 'WMT',\n",
       " 'DIS',\n",
       " 'WBD',\n",
       " 'WM',\n",
       " 'WAT',\n",
       " 'WEC',\n",
       " 'WFC',\n",
       " 'WELL',\n",
       " 'WST',\n",
       " 'WDC',\n",
       " 'WY',\n",
       " 'WMB',\n",
       " 'WTW',\n",
       " 'WDAY',\n",
       " 'WYNN',\n",
       " 'XEL',\n",
       " 'XYL',\n",
       " 'YUM',\n",
       " 'ZBRA',\n",
       " 'ZBH',\n",
       " 'ZTS']"
      ]
     },
     "execution_count": 95,
     "metadata": {},
     "output_type": "execute_result"
    }
   ],
   "source": [
    "sp500_tickers = get_sp500_tickers()\n",
    "sp500_tickers"
   ]
  },
  {
   "cell_type": "code",
   "execution_count": 97,
   "id": "f24d06c5-767e-475e-95da-193d78808198",
   "metadata": {},
   "outputs": [
    {
     "name": "stdout",
     "output_type": "stream",
     "text": [
      "Collecting current data for MMM...\n",
      "Collecting current data for AOS...\n",
      "Collecting current data for ABT...\n",
      "Collecting current data for ABBV...\n",
      "Collecting current data for ACN...\n",
      "Collecting current data for ADBE...\n",
      "Collecting current data for AMD...\n",
      "Collecting current data for AES...\n",
      "Collecting current data for AFL...\n",
      "Collecting current data for A...\n",
      "Collecting current data for APD...\n",
      "Collecting current data for ABNB...\n",
      "Collecting current data for AKAM...\n",
      "Collecting current data for ALB...\n",
      "Collecting current data for ARE...\n",
      "Collecting current data for ALGN...\n",
      "Collecting current data for ALLE...\n",
      "Collecting current data for LNT...\n",
      "Collecting current data for ALL...\n",
      "Collecting current data for GOOGL...\n",
      "Collecting current data for GOOG...\n",
      "Collecting current data for MO...\n",
      "Collecting current data for AMZN...\n",
      "Collecting current data for AMCR...\n",
      "Collecting current data for AEE...\n",
      "Collecting current data for AEP...\n",
      "Collecting current data for AXP...\n",
      "Collecting current data for AIG...\n",
      "Collecting current data for AMT...\n",
      "Collecting current data for AWK...\n",
      "Collecting current data for AMP...\n",
      "Collecting current data for AME...\n",
      "Collecting current data for AMGN...\n",
      "Collecting current data for APH...\n",
      "Collecting current data for ADI...\n",
      "Collecting current data for ANSS...\n",
      "Collecting current data for AON...\n",
      "Collecting current data for APA...\n",
      "Collecting current data for APO...\n",
      "Collecting current data for AAPL...\n",
      "Collecting current data for AMAT...\n",
      "Collecting current data for APTV...\n",
      "Collecting current data for ACGL...\n",
      "Collecting current data for ADM...\n",
      "Collecting current data for ANET...\n",
      "Collecting current data for AJG...\n",
      "Collecting current data for AIZ...\n",
      "Collecting current data for T...\n",
      "Collecting current data for ATO...\n",
      "Collecting current data for ADSK...\n",
      "Collecting current data for ADP...\n",
      "Collecting current data for AZO...\n",
      "Collecting current data for AVB...\n",
      "Collecting current data for AVY...\n",
      "Collecting current data for AXON...\n",
      "Collecting current data for BKR...\n",
      "Collecting current data for BALL...\n",
      "Collecting current data for BAC...\n",
      "Collecting current data for BAX...\n",
      "Collecting current data for BDX...\n",
      "Collecting current data for BRK.B...\n",
      "Error collecting data for BRK.B: single positional indexer is out-of-bounds\n",
      "Collecting current data for BBY...\n",
      "Collecting current data for TECH...\n",
      "Collecting current data for BIIB...\n",
      "Collecting current data for BLK...\n",
      "Collecting current data for BX...\n",
      "Collecting current data for BK...\n",
      "Collecting current data for BA...\n",
      "Collecting current data for BKNG...\n",
      "Collecting current data for BWA...\n",
      "Collecting current data for BSX...\n",
      "Collecting current data for BMY...\n",
      "Collecting current data for AVGO...\n",
      "Collecting current data for BR...\n",
      "Collecting current data for BRO...\n",
      "Collecting current data for BF.B...\n",
      "Error collecting data for BF.B: single positional indexer is out-of-bounds\n",
      "Collecting current data for BLDR...\n",
      "Collecting current data for BG...\n",
      "Collecting current data for BXP...\n",
      "Collecting current data for CHRW...\n",
      "Collecting current data for CDNS...\n",
      "Collecting current data for CZR...\n",
      "Collecting current data for CPT...\n",
      "Collecting current data for CPB...\n",
      "Collecting current data for COF...\n",
      "Collecting current data for CAH...\n",
      "Collecting current data for KMX...\n",
      "Collecting current data for CCL...\n",
      "Collecting current data for CARR...\n",
      "Collecting current data for CAT...\n",
      "Collecting current data for CBOE...\n",
      "Collecting current data for CBRE...\n",
      "Collecting current data for CDW...\n",
      "Collecting current data for CE...\n",
      "Collecting current data for COR...\n",
      "Collecting current data for CNC...\n",
      "Collecting current data for CNP...\n",
      "Collecting current data for CF...\n",
      "Collecting current data for CRL...\n",
      "Collecting current data for SCHW...\n",
      "Collecting current data for CHTR...\n",
      "Collecting current data for CVX...\n",
      "Collecting current data for CMG...\n",
      "Collecting current data for CB...\n",
      "Collecting current data for CHD...\n",
      "Collecting current data for CI...\n",
      "Collecting current data for CINF...\n",
      "Collecting current data for CTAS...\n",
      "Collecting current data for CSCO...\n",
      "Collecting current data for C...\n",
      "Collecting current data for CFG...\n",
      "Collecting current data for CLX...\n",
      "Collecting current data for CME...\n",
      "Collecting current data for CMS...\n",
      "Collecting current data for KO...\n",
      "Collecting current data for CTSH...\n",
      "Collecting current data for CL...\n",
      "Collecting current data for CMCSA...\n",
      "Collecting current data for CAG...\n",
      "Collecting current data for COP...\n",
      "Collecting current data for ED...\n",
      "Collecting current data for STZ...\n",
      "Collecting current data for CEG...\n",
      "Collecting current data for COO...\n",
      "Collecting current data for CPRT...\n",
      "Collecting current data for GLW...\n",
      "Collecting current data for CPAY...\n",
      "Collecting current data for CTVA...\n",
      "Collecting current data for CSGP...\n",
      "Collecting current data for COST...\n",
      "Collecting current data for CTRA...\n",
      "Collecting current data for CRWD...\n",
      "Collecting current data for CCI...\n",
      "Collecting current data for CSX...\n",
      "Collecting current data for CMI...\n",
      "Collecting current data for CVS...\n",
      "Collecting current data for DHR...\n",
      "Collecting current data for DRI...\n",
      "Collecting current data for DVA...\n",
      "Collecting current data for DAY...\n",
      "Collecting current data for DECK...\n",
      "Collecting current data for DE...\n",
      "Collecting current data for DELL...\n",
      "Collecting current data for DAL...\n",
      "Collecting current data for DVN...\n",
      "Collecting current data for DXCM...\n",
      "Collecting current data for FANG...\n",
      "Collecting current data for DLR...\n",
      "Collecting current data for DFS...\n",
      "Collecting current data for DG...\n",
      "Collecting current data for DLTR...\n",
      "Collecting current data for D...\n",
      "Collecting current data for DPZ...\n",
      "Collecting current data for DOV...\n",
      "Collecting current data for DOW...\n",
      "Collecting current data for DHI...\n",
      "Collecting current data for DTE...\n",
      "Collecting current data for DUK...\n",
      "Collecting current data for DD...\n",
      "Collecting current data for EMN...\n",
      "Collecting current data for ETN...\n",
      "Collecting current data for EBAY...\n",
      "Collecting current data for ECL...\n",
      "Collecting current data for EIX...\n",
      "Collecting current data for EW...\n",
      "Collecting current data for EA...\n",
      "Collecting current data for ELV...\n",
      "Collecting current data for EMR...\n",
      "Collecting current data for ENPH...\n",
      "Collecting current data for ETR...\n",
      "Collecting current data for EOG...\n",
      "Collecting current data for EPAM...\n",
      "Collecting current data for EQT...\n",
      "Collecting current data for EFX...\n",
      "Collecting current data for EQIX...\n",
      "Collecting current data for EQR...\n",
      "Collecting current data for ERIE...\n",
      "Collecting current data for ESS...\n",
      "Collecting current data for EL...\n",
      "Collecting current data for EG...\n",
      "Collecting current data for EVRG...\n",
      "Collecting current data for ES...\n",
      "Collecting current data for EXC...\n",
      "Collecting current data for EXPE...\n",
      "Collecting current data for EXPD...\n",
      "Collecting current data for EXR...\n",
      "Collecting current data for XOM...\n",
      "Collecting current data for FFIV...\n",
      "Collecting current data for FDS...\n",
      "Collecting current data for FICO...\n",
      "Collecting current data for FAST...\n",
      "Collecting current data for FRT...\n",
      "Collecting current data for FDX...\n",
      "Collecting current data for FIS...\n",
      "Collecting current data for FITB...\n",
      "Collecting current data for FSLR...\n",
      "Collecting current data for FE...\n",
      "Collecting current data for FI...\n",
      "Collecting current data for FMC...\n",
      "Collecting current data for F...\n",
      "Collecting current data for FTNT...\n",
      "Collecting current data for FTV...\n",
      "Collecting current data for FOXA...\n",
      "Collecting current data for FOX...\n",
      "Collecting current data for BEN...\n",
      "Collecting current data for FCX...\n",
      "Collecting current data for GRMN...\n",
      "Collecting current data for IT...\n",
      "Collecting current data for GE...\n",
      "Collecting current data for GEHC...\n",
      "Collecting current data for GEV...\n",
      "Collecting current data for GEN...\n",
      "Collecting current data for GNRC...\n",
      "Collecting current data for GD...\n",
      "Collecting current data for GIS...\n",
      "Collecting current data for GM...\n",
      "Collecting current data for GPC...\n",
      "Collecting current data for GILD...\n",
      "Collecting current data for GPN...\n",
      "Collecting current data for GL...\n",
      "Collecting current data for GDDY...\n",
      "Collecting current data for GS...\n",
      "Collecting current data for HAL...\n",
      "Collecting current data for HIG...\n",
      "Collecting current data for HAS...\n",
      "Collecting current data for HCA...\n",
      "Collecting current data for DOC...\n",
      "Collecting current data for HSIC...\n",
      "Collecting current data for HSY...\n",
      "Collecting current data for HES...\n",
      "Collecting current data for HPE...\n",
      "Collecting current data for HLT...\n",
      "Collecting current data for HOLX...\n",
      "Collecting current data for HD...\n",
      "Collecting current data for HON...\n",
      "Collecting current data for HRL...\n",
      "Collecting current data for HST...\n",
      "Collecting current data for HWM...\n",
      "Collecting current data for HPQ...\n",
      "Collecting current data for HUBB...\n",
      "Collecting current data for HUM...\n",
      "Collecting current data for HBAN...\n",
      "Collecting current data for HII...\n",
      "Collecting current data for IBM...\n",
      "Collecting current data for IEX...\n",
      "Collecting current data for IDXX...\n",
      "Collecting current data for ITW...\n",
      "Collecting current data for INCY...\n",
      "Collecting current data for IR...\n",
      "Collecting current data for PODD...\n",
      "Collecting current data for INTC...\n",
      "Collecting current data for ICE...\n",
      "Collecting current data for IFF...\n",
      "Collecting current data for IP...\n",
      "Collecting current data for IPG...\n",
      "Collecting current data for INTU...\n",
      "Collecting current data for ISRG...\n",
      "Collecting current data for IVZ...\n",
      "Collecting current data for INVH...\n",
      "Collecting current data for IQV...\n",
      "Collecting current data for IRM...\n",
      "Collecting current data for JBHT...\n",
      "Collecting current data for JBL...\n",
      "Collecting current data for JKHY...\n",
      "Collecting current data for J...\n",
      "Collecting current data for JNJ...\n",
      "Collecting current data for JCI...\n",
      "Collecting current data for JPM...\n",
      "Collecting current data for JNPR...\n",
      "Collecting current data for K...\n",
      "Collecting current data for KVUE...\n",
      "Collecting current data for KDP...\n",
      "Collecting current data for KEY...\n",
      "Collecting current data for KEYS...\n",
      "Collecting current data for KMB...\n",
      "Collecting current data for KIM...\n",
      "Collecting current data for KMI...\n",
      "Collecting current data for KKR...\n",
      "Collecting current data for KLAC...\n",
      "Collecting current data for KHC...\n",
      "Collecting current data for KR...\n",
      "Collecting current data for LHX...\n",
      "Collecting current data for LH...\n",
      "Collecting current data for LRCX...\n",
      "Collecting current data for LW...\n",
      "Collecting current data for LVS...\n",
      "Collecting current data for LDOS...\n",
      "Collecting current data for LEN...\n",
      "Collecting current data for LII...\n",
      "Collecting current data for LLY...\n",
      "Collecting current data for LIN...\n",
      "Collecting current data for LYV...\n",
      "Collecting current data for LKQ...\n",
      "Collecting current data for LMT...\n",
      "Collecting current data for L...\n",
      "Collecting current data for LOW...\n",
      "Collecting current data for LULU...\n",
      "Collecting current data for LYB...\n",
      "Collecting current data for MTB...\n",
      "Collecting current data for MPC...\n",
      "Collecting current data for MKTX...\n",
      "Collecting current data for MAR...\n",
      "Collecting current data for MMC...\n",
      "Collecting current data for MLM...\n",
      "Collecting current data for MAS...\n",
      "Collecting current data for MA...\n",
      "Collecting current data for MTCH...\n",
      "Collecting current data for MKC...\n",
      "Collecting current data for MCD...\n",
      "Collecting current data for MCK...\n",
      "Collecting current data for MDT...\n",
      "Collecting current data for MRK...\n",
      "Collecting current data for META...\n",
      "Collecting current data for MET...\n",
      "Collecting current data for MTD...\n",
      "Collecting current data for MGM...\n",
      "Collecting current data for MCHP...\n",
      "Collecting current data for MU...\n",
      "Collecting current data for MSFT...\n",
      "Collecting current data for MAA...\n",
      "Collecting current data for MRNA...\n",
      "Collecting current data for MHK...\n",
      "Collecting current data for MOH...\n",
      "Collecting current data for TAP...\n",
      "Collecting current data for MDLZ...\n",
      "Collecting current data for MPWR...\n",
      "Collecting current data for MNST...\n",
      "Collecting current data for MCO...\n",
      "Collecting current data for MS...\n",
      "Collecting current data for MOS...\n",
      "Collecting current data for MSI...\n",
      "Collecting current data for MSCI...\n",
      "Collecting current data for NDAQ...\n",
      "Collecting current data for NTAP...\n",
      "Collecting current data for NFLX...\n",
      "Collecting current data for NEM...\n",
      "Collecting current data for NWSA...\n",
      "Collecting current data for NWS...\n",
      "Collecting current data for NEE...\n",
      "Collecting current data for NKE...\n",
      "Collecting current data for NI...\n",
      "Collecting current data for NDSN...\n",
      "Collecting current data for NSC...\n",
      "Collecting current data for NTRS...\n",
      "Collecting current data for NOC...\n",
      "Collecting current data for NCLH...\n",
      "Collecting current data for NRG...\n",
      "Collecting current data for NUE...\n",
      "Collecting current data for NVDA...\n",
      "Collecting current data for NVR...\n",
      "Collecting current data for NXPI...\n",
      "Collecting current data for ORLY...\n",
      "Collecting current data for OXY...\n",
      "Collecting current data for ODFL...\n",
      "Collecting current data for OMC...\n",
      "Collecting current data for ON...\n",
      "Collecting current data for OKE...\n",
      "Collecting current data for ORCL...\n",
      "Collecting current data for OTIS...\n",
      "Collecting current data for PCAR...\n",
      "Collecting current data for PKG...\n",
      "Collecting current data for PLTR...\n",
      "Collecting current data for PANW...\n",
      "Collecting current data for PARA...\n",
      "Collecting current data for PH...\n",
      "Collecting current data for PAYX...\n",
      "Collecting current data for PAYC...\n",
      "Collecting current data for PYPL...\n",
      "Collecting current data for PNR...\n",
      "Collecting current data for PEP...\n",
      "Collecting current data for PFE...\n",
      "Collecting current data for PCG...\n",
      "Collecting current data for PM...\n",
      "Collecting current data for PSX...\n",
      "Collecting current data for PNW...\n",
      "Collecting current data for PNC...\n",
      "Collecting current data for POOL...\n",
      "Collecting current data for PPG...\n",
      "Collecting current data for PPL...\n",
      "Collecting current data for PFG...\n",
      "Collecting current data for PG...\n",
      "Collecting current data for PGR...\n",
      "Collecting current data for PLD...\n",
      "Collecting current data for PRU...\n",
      "Collecting current data for PEG...\n",
      "Collecting current data for PTC...\n",
      "Error collecting data for PTC: single positional indexer is out-of-bounds\n",
      "Collecting current data for PSA...\n"
     ]
    },
    {
     "name": "stderr",
     "output_type": "stream",
     "text": [
      "429 Client Error: Too Many Requests for url: https://query2.finance.yahoo.com/v10/finance/quoteSummary/PSA?modules=financialData%2CquoteType%2CdefaultKeyStatistics%2CassetProfile%2CsummaryDetail&corsDomain=finance.yahoo.com&formatted=false&symbol=PSA&crumb=Edge%3A+Too+Many+Requests\n"
     ]
    },
    {
     "name": "stdout",
     "output_type": "stream",
     "text": [
      "Error collecting data for PSA: Expecting value: line 1 column 1 (char 0)\n",
      "Collecting current data for PHM...\n"
     ]
    },
    {
     "name": "stderr",
     "output_type": "stream",
     "text": [
      "429 Client Error: Too Many Requests for url: https://query2.finance.yahoo.com/v10/finance/quoteSummary/PHM?modules=financialData%2CquoteType%2CdefaultKeyStatistics%2CassetProfile%2CsummaryDetail&corsDomain=finance.yahoo.com&formatted=false&symbol=PHM&crumb=Edge%3A+Too+Many+Requests\n"
     ]
    },
    {
     "name": "stdout",
     "output_type": "stream",
     "text": [
      "Error collecting data for PHM: Expecting value: line 1 column 1 (char 0)\n",
      "Collecting current data for PWR...\n"
     ]
    },
    {
     "name": "stderr",
     "output_type": "stream",
     "text": [
      "429 Client Error: Too Many Requests for url: https://query2.finance.yahoo.com/v10/finance/quoteSummary/PWR?modules=financialData%2CquoteType%2CdefaultKeyStatistics%2CassetProfile%2CsummaryDetail&corsDomain=finance.yahoo.com&formatted=false&symbol=PWR&crumb=Edge%3A+Too+Many+Requests\n"
     ]
    },
    {
     "name": "stdout",
     "output_type": "stream",
     "text": [
      "Error collecting data for PWR: Expecting value: line 1 column 1 (char 0)\n",
      "Collecting current data for QCOM...\n"
     ]
    },
    {
     "name": "stderr",
     "output_type": "stream",
     "text": [
      "429 Client Error: Too Many Requests for url: https://query2.finance.yahoo.com/v10/finance/quoteSummary/QCOM?modules=financialData%2CquoteType%2CdefaultKeyStatistics%2CassetProfile%2CsummaryDetail&corsDomain=finance.yahoo.com&formatted=false&symbol=QCOM&crumb=Edge%3A+Too+Many+Requests\n"
     ]
    },
    {
     "name": "stdout",
     "output_type": "stream",
     "text": [
      "Error collecting data for QCOM: Expecting value: line 1 column 1 (char 0)\n",
      "Collecting current data for DGX...\n"
     ]
    },
    {
     "name": "stderr",
     "output_type": "stream",
     "text": [
      "429 Client Error: Too Many Requests for url: https://query2.finance.yahoo.com/v10/finance/quoteSummary/DGX?modules=financialData%2CquoteType%2CdefaultKeyStatistics%2CassetProfile%2CsummaryDetail&corsDomain=finance.yahoo.com&formatted=false&symbol=DGX&crumb=Edge%3A+Too+Many+Requests\n"
     ]
    },
    {
     "name": "stdout",
     "output_type": "stream",
     "text": [
      "Error collecting data for DGX: Expecting value: line 1 column 1 (char 0)\n",
      "Collecting current data for RL...\n"
     ]
    },
    {
     "name": "stderr",
     "output_type": "stream",
     "text": [
      "429 Client Error: Too Many Requests for url: https://query2.finance.yahoo.com/v10/finance/quoteSummary/RL?modules=financialData%2CquoteType%2CdefaultKeyStatistics%2CassetProfile%2CsummaryDetail&corsDomain=finance.yahoo.com&formatted=false&symbol=RL&crumb=Edge%3A+Too+Many+Requests\n"
     ]
    },
    {
     "name": "stdout",
     "output_type": "stream",
     "text": [
      "Error collecting data for RL: Expecting value: line 1 column 1 (char 0)\n",
      "Collecting current data for RJF...\n"
     ]
    },
    {
     "name": "stderr",
     "output_type": "stream",
     "text": [
      "429 Client Error: Too Many Requests for url: https://query2.finance.yahoo.com/v10/finance/quoteSummary/RJF?modules=financialData%2CquoteType%2CdefaultKeyStatistics%2CassetProfile%2CsummaryDetail&corsDomain=finance.yahoo.com&formatted=false&symbol=RJF&crumb=Edge%3A+Too+Many+Requests\n"
     ]
    },
    {
     "name": "stdout",
     "output_type": "stream",
     "text": [
      "Error collecting data for RJF: Expecting value: line 1 column 1 (char 0)\n",
      "Collecting current data for RTX...\n"
     ]
    },
    {
     "name": "stderr",
     "output_type": "stream",
     "text": [
      "429 Client Error: Too Many Requests for url: https://query2.finance.yahoo.com/v10/finance/quoteSummary/RTX?modules=financialData%2CquoteType%2CdefaultKeyStatistics%2CassetProfile%2CsummaryDetail&corsDomain=finance.yahoo.com&formatted=false&symbol=RTX&crumb=Edge%3A+Too+Many+Requests\n"
     ]
    },
    {
     "name": "stdout",
     "output_type": "stream",
     "text": [
      "Error collecting data for RTX: Expecting value: line 1 column 1 (char 0)\n",
      "Collecting current data for O...\n"
     ]
    },
    {
     "name": "stderr",
     "output_type": "stream",
     "text": [
      "429 Client Error: Too Many Requests for url: https://query2.finance.yahoo.com/v10/finance/quoteSummary/O?modules=financialData%2CquoteType%2CdefaultKeyStatistics%2CassetProfile%2CsummaryDetail&corsDomain=finance.yahoo.com&formatted=false&symbol=O&crumb=Edge%3A+Too+Many+Requests\n"
     ]
    },
    {
     "name": "stdout",
     "output_type": "stream",
     "text": [
      "Error collecting data for O: Expecting value: line 1 column 1 (char 0)\n",
      "Collecting current data for REG...\n"
     ]
    },
    {
     "name": "stderr",
     "output_type": "stream",
     "text": [
      "429 Client Error: Too Many Requests for url: https://query2.finance.yahoo.com/v10/finance/quoteSummary/REG?modules=financialData%2CquoteType%2CdefaultKeyStatistics%2CassetProfile%2CsummaryDetail&corsDomain=finance.yahoo.com&formatted=false&symbol=REG&crumb=Edge%3A+Too+Many+Requests\n"
     ]
    },
    {
     "name": "stdout",
     "output_type": "stream",
     "text": [
      "Error collecting data for REG: Expecting value: line 1 column 1 (char 0)\n",
      "Collecting current data for REGN...\n"
     ]
    },
    {
     "name": "stderr",
     "output_type": "stream",
     "text": [
      "429 Client Error: Too Many Requests for url: https://query2.finance.yahoo.com/v10/finance/quoteSummary/REGN?modules=financialData%2CquoteType%2CdefaultKeyStatistics%2CassetProfile%2CsummaryDetail&corsDomain=finance.yahoo.com&formatted=false&symbol=REGN&crumb=Edge%3A+Too+Many+Requests\n"
     ]
    },
    {
     "name": "stdout",
     "output_type": "stream",
     "text": [
      "Error collecting data for REGN: Expecting value: line 1 column 1 (char 0)\n",
      "Collecting current data for RF...\n"
     ]
    },
    {
     "name": "stderr",
     "output_type": "stream",
     "text": [
      "429 Client Error: Too Many Requests for url: https://query2.finance.yahoo.com/v10/finance/quoteSummary/RF?modules=financialData%2CquoteType%2CdefaultKeyStatistics%2CassetProfile%2CsummaryDetail&corsDomain=finance.yahoo.com&formatted=false&symbol=RF&crumb=Edge%3A+Too+Many+Requests\n"
     ]
    },
    {
     "name": "stdout",
     "output_type": "stream",
     "text": [
      "Error collecting data for RF: Expecting value: line 1 column 1 (char 0)\n",
      "Collecting current data for RSG...\n"
     ]
    },
    {
     "name": "stderr",
     "output_type": "stream",
     "text": [
      "429 Client Error: Too Many Requests for url: https://query2.finance.yahoo.com/v10/finance/quoteSummary/RSG?modules=financialData%2CquoteType%2CdefaultKeyStatistics%2CassetProfile%2CsummaryDetail&corsDomain=finance.yahoo.com&formatted=false&symbol=RSG&crumb=Edge%3A+Too+Many+Requests\n"
     ]
    },
    {
     "name": "stdout",
     "output_type": "stream",
     "text": [
      "Error collecting data for RSG: Expecting value: line 1 column 1 (char 0)\n",
      "Collecting current data for RMD...\n"
     ]
    },
    {
     "name": "stderr",
     "output_type": "stream",
     "text": [
      "429 Client Error: Too Many Requests for url: https://query2.finance.yahoo.com/v10/finance/quoteSummary/RMD?modules=financialData%2CquoteType%2CdefaultKeyStatistics%2CassetProfile%2CsummaryDetail&corsDomain=finance.yahoo.com&formatted=false&symbol=RMD&crumb=Edge%3A+Too+Many+Requests\n"
     ]
    },
    {
     "name": "stdout",
     "output_type": "stream",
     "text": [
      "Error collecting data for RMD: Expecting value: line 1 column 1 (char 0)\n",
      "Collecting current data for RVTY...\n"
     ]
    },
    {
     "name": "stderr",
     "output_type": "stream",
     "text": [
      "429 Client Error: Too Many Requests for url: https://query2.finance.yahoo.com/v10/finance/quoteSummary/RVTY?modules=financialData%2CquoteType%2CdefaultKeyStatistics%2CassetProfile%2CsummaryDetail&corsDomain=finance.yahoo.com&formatted=false&symbol=RVTY&crumb=Edge%3A+Too+Many+Requests\n"
     ]
    },
    {
     "name": "stdout",
     "output_type": "stream",
     "text": [
      "Error collecting data for RVTY: Expecting value: line 1 column 1 (char 0)\n",
      "Collecting current data for ROK...\n"
     ]
    },
    {
     "name": "stderr",
     "output_type": "stream",
     "text": [
      "429 Client Error: Too Many Requests for url: https://query2.finance.yahoo.com/v10/finance/quoteSummary/ROK?modules=financialData%2CquoteType%2CdefaultKeyStatistics%2CassetProfile%2CsummaryDetail&corsDomain=finance.yahoo.com&formatted=false&symbol=ROK&crumb=Edge%3A+Too+Many+Requests\n"
     ]
    },
    {
     "name": "stdout",
     "output_type": "stream",
     "text": [
      "Error collecting data for ROK: Expecting value: line 1 column 1 (char 0)\n",
      "Collecting current data for ROL...\n"
     ]
    },
    {
     "name": "stderr",
     "output_type": "stream",
     "text": [
      "429 Client Error: Too Many Requests for url: https://query2.finance.yahoo.com/v10/finance/quoteSummary/ROL?modules=financialData%2CquoteType%2CdefaultKeyStatistics%2CassetProfile%2CsummaryDetail&corsDomain=finance.yahoo.com&formatted=false&symbol=ROL&crumb=Edge%3A+Too+Many+Requests\n"
     ]
    },
    {
     "name": "stdout",
     "output_type": "stream",
     "text": [
      "Error collecting data for ROL: Expecting value: line 1 column 1 (char 0)\n",
      "Collecting current data for ROP...\n"
     ]
    },
    {
     "name": "stderr",
     "output_type": "stream",
     "text": [
      "429 Client Error: Too Many Requests for url: https://query2.finance.yahoo.com/v10/finance/quoteSummary/ROP?modules=financialData%2CquoteType%2CdefaultKeyStatistics%2CassetProfile%2CsummaryDetail&corsDomain=finance.yahoo.com&formatted=false&symbol=ROP&crumb=Edge%3A+Too+Many+Requests\n"
     ]
    },
    {
     "name": "stdout",
     "output_type": "stream",
     "text": [
      "Error collecting data for ROP: Expecting value: line 1 column 1 (char 0)\n",
      "Collecting current data for ROST...\n"
     ]
    },
    {
     "name": "stderr",
     "output_type": "stream",
     "text": [
      "429 Client Error: Too Many Requests for url: https://query2.finance.yahoo.com/v10/finance/quoteSummary/ROST?modules=financialData%2CquoteType%2CdefaultKeyStatistics%2CassetProfile%2CsummaryDetail&corsDomain=finance.yahoo.com&formatted=false&symbol=ROST&crumb=Edge%3A+Too+Many+Requests\n"
     ]
    },
    {
     "name": "stdout",
     "output_type": "stream",
     "text": [
      "Error collecting data for ROST: Expecting value: line 1 column 1 (char 0)\n",
      "Collecting current data for RCL...\n"
     ]
    },
    {
     "name": "stderr",
     "output_type": "stream",
     "text": [
      "429 Client Error: Too Many Requests for url: https://query2.finance.yahoo.com/v10/finance/quoteSummary/RCL?modules=financialData%2CquoteType%2CdefaultKeyStatistics%2CassetProfile%2CsummaryDetail&corsDomain=finance.yahoo.com&formatted=false&symbol=RCL&crumb=Edge%3A+Too+Many+Requests\n"
     ]
    },
    {
     "name": "stdout",
     "output_type": "stream",
     "text": [
      "Error collecting data for RCL: Expecting value: line 1 column 1 (char 0)\n",
      "Collecting current data for SPGI...\n"
     ]
    },
    {
     "name": "stderr",
     "output_type": "stream",
     "text": [
      "429 Client Error: Too Many Requests for url: https://query2.finance.yahoo.com/v10/finance/quoteSummary/SPGI?modules=financialData%2CquoteType%2CdefaultKeyStatistics%2CassetProfile%2CsummaryDetail&corsDomain=finance.yahoo.com&formatted=false&symbol=SPGI&crumb=Edge%3A+Too+Many+Requests\n"
     ]
    },
    {
     "name": "stdout",
     "output_type": "stream",
     "text": [
      "Error collecting data for SPGI: Expecting value: line 1 column 1 (char 0)\n",
      "Collecting current data for CRM...\n"
     ]
    },
    {
     "name": "stderr",
     "output_type": "stream",
     "text": [
      "429 Client Error: Too Many Requests for url: https://query2.finance.yahoo.com/v10/finance/quoteSummary/CRM?modules=financialData%2CquoteType%2CdefaultKeyStatistics%2CassetProfile%2CsummaryDetail&corsDomain=finance.yahoo.com&formatted=false&symbol=CRM&crumb=Edge%3A+Too+Many+Requests\n"
     ]
    },
    {
     "name": "stdout",
     "output_type": "stream",
     "text": [
      "Error collecting data for CRM: Expecting value: line 1 column 1 (char 0)\n",
      "Collecting current data for SBAC...\n"
     ]
    },
    {
     "name": "stderr",
     "output_type": "stream",
     "text": [
      "429 Client Error: Too Many Requests for url: https://query2.finance.yahoo.com/v10/finance/quoteSummary/SBAC?modules=financialData%2CquoteType%2CdefaultKeyStatistics%2CassetProfile%2CsummaryDetail&corsDomain=finance.yahoo.com&formatted=false&symbol=SBAC&crumb=Edge%3A+Too+Many+Requests\n"
     ]
    },
    {
     "name": "stdout",
     "output_type": "stream",
     "text": [
      "Error collecting data for SBAC: Expecting value: line 1 column 1 (char 0)\n",
      "Collecting current data for SLB...\n"
     ]
    },
    {
     "name": "stderr",
     "output_type": "stream",
     "text": [
      "429 Client Error: Too Many Requests for url: https://query2.finance.yahoo.com/v10/finance/quoteSummary/SLB?modules=financialData%2CquoteType%2CdefaultKeyStatistics%2CassetProfile%2CsummaryDetail&corsDomain=finance.yahoo.com&formatted=false&symbol=SLB&crumb=Edge%3A+Too+Many+Requests\n"
     ]
    },
    {
     "name": "stdout",
     "output_type": "stream",
     "text": [
      "Error collecting data for SLB: Expecting value: line 1 column 1 (char 0)\n",
      "Collecting current data for STX...\n"
     ]
    },
    {
     "name": "stderr",
     "output_type": "stream",
     "text": [
      "429 Client Error: Too Many Requests for url: https://query2.finance.yahoo.com/v10/finance/quoteSummary/STX?modules=financialData%2CquoteType%2CdefaultKeyStatistics%2CassetProfile%2CsummaryDetail&corsDomain=finance.yahoo.com&formatted=false&symbol=STX&crumb=Edge%3A+Too+Many+Requests\n"
     ]
    },
    {
     "name": "stdout",
     "output_type": "stream",
     "text": [
      "Error collecting data for STX: Expecting value: line 1 column 1 (char 0)\n",
      "Collecting current data for SRE...\n"
     ]
    },
    {
     "name": "stderr",
     "output_type": "stream",
     "text": [
      "429 Client Error: Too Many Requests for url: https://query2.finance.yahoo.com/v10/finance/quoteSummary/SRE?modules=financialData%2CquoteType%2CdefaultKeyStatistics%2CassetProfile%2CsummaryDetail&corsDomain=finance.yahoo.com&formatted=false&symbol=SRE&crumb=Edge%3A+Too+Many+Requests\n"
     ]
    },
    {
     "name": "stdout",
     "output_type": "stream",
     "text": [
      "Error collecting data for SRE: Expecting value: line 1 column 1 (char 0)\n",
      "Collecting current data for NOW...\n"
     ]
    },
    {
     "name": "stderr",
     "output_type": "stream",
     "text": [
      "429 Client Error: Too Many Requests for url: https://query2.finance.yahoo.com/v10/finance/quoteSummary/NOW?modules=financialData%2CquoteType%2CdefaultKeyStatistics%2CassetProfile%2CsummaryDetail&corsDomain=finance.yahoo.com&formatted=false&symbol=NOW&crumb=Edge%3A+Too+Many+Requests\n"
     ]
    },
    {
     "name": "stdout",
     "output_type": "stream",
     "text": [
      "Error collecting data for NOW: Expecting value: line 1 column 1 (char 0)\n",
      "Collecting current data for SHW...\n"
     ]
    },
    {
     "name": "stderr",
     "output_type": "stream",
     "text": [
      "429 Client Error: Too Many Requests for url: https://query2.finance.yahoo.com/v10/finance/quoteSummary/SHW?modules=financialData%2CquoteType%2CdefaultKeyStatistics%2CassetProfile%2CsummaryDetail&corsDomain=finance.yahoo.com&formatted=false&symbol=SHW&crumb=Edge%3A+Too+Many+Requests\n"
     ]
    },
    {
     "name": "stdout",
     "output_type": "stream",
     "text": [
      "Error collecting data for SHW: Expecting value: line 1 column 1 (char 0)\n",
      "Collecting current data for SPG...\n"
     ]
    },
    {
     "name": "stderr",
     "output_type": "stream",
     "text": [
      "429 Client Error: Too Many Requests for url: https://query2.finance.yahoo.com/v10/finance/quoteSummary/SPG?modules=financialData%2CquoteType%2CdefaultKeyStatistics%2CassetProfile%2CsummaryDetail&corsDomain=finance.yahoo.com&formatted=false&symbol=SPG&crumb=Edge%3A+Too+Many+Requests\n"
     ]
    },
    {
     "name": "stdout",
     "output_type": "stream",
     "text": [
      "Error collecting data for SPG: Expecting value: line 1 column 1 (char 0)\n",
      "Collecting current data for SWKS...\n"
     ]
    },
    {
     "name": "stderr",
     "output_type": "stream",
     "text": [
      "429 Client Error: Too Many Requests for url: https://query2.finance.yahoo.com/v10/finance/quoteSummary/SWKS?modules=financialData%2CquoteType%2CdefaultKeyStatistics%2CassetProfile%2CsummaryDetail&corsDomain=finance.yahoo.com&formatted=false&symbol=SWKS&crumb=Edge%3A+Too+Many+Requests\n"
     ]
    },
    {
     "name": "stdout",
     "output_type": "stream",
     "text": [
      "Error collecting data for SWKS: Expecting value: line 1 column 1 (char 0)\n",
      "Collecting current data for SJM...\n"
     ]
    },
    {
     "name": "stderr",
     "output_type": "stream",
     "text": [
      "429 Client Error: Too Many Requests for url: https://query2.finance.yahoo.com/v10/finance/quoteSummary/SJM?modules=financialData%2CquoteType%2CdefaultKeyStatistics%2CassetProfile%2CsummaryDetail&corsDomain=finance.yahoo.com&formatted=false&symbol=SJM&crumb=Edge%3A+Too+Many+Requests\n"
     ]
    },
    {
     "name": "stdout",
     "output_type": "stream",
     "text": [
      "Error collecting data for SJM: Expecting value: line 1 column 1 (char 0)\n",
      "Collecting current data for SW...\n"
     ]
    },
    {
     "name": "stderr",
     "output_type": "stream",
     "text": [
      "429 Client Error: Too Many Requests for url: https://query2.finance.yahoo.com/v10/finance/quoteSummary/SW?modules=financialData%2CquoteType%2CdefaultKeyStatistics%2CassetProfile%2CsummaryDetail&corsDomain=finance.yahoo.com&formatted=false&symbol=SW&crumb=Edge%3A+Too+Many+Requests\n"
     ]
    },
    {
     "name": "stdout",
     "output_type": "stream",
     "text": [
      "Error collecting data for SW: Expecting value: line 1 column 1 (char 0)\n",
      "Collecting current data for SNA...\n"
     ]
    },
    {
     "name": "stderr",
     "output_type": "stream",
     "text": [
      "429 Client Error: Too Many Requests for url: https://query2.finance.yahoo.com/v10/finance/quoteSummary/SNA?modules=financialData%2CquoteType%2CdefaultKeyStatistics%2CassetProfile%2CsummaryDetail&corsDomain=finance.yahoo.com&formatted=false&symbol=SNA&crumb=Edge%3A+Too+Many+Requests\n"
     ]
    },
    {
     "name": "stdout",
     "output_type": "stream",
     "text": [
      "Error collecting data for SNA: Expecting value: line 1 column 1 (char 0)\n",
      "Collecting current data for SOLV...\n"
     ]
    },
    {
     "name": "stderr",
     "output_type": "stream",
     "text": [
      "429 Client Error: Too Many Requests for url: https://query2.finance.yahoo.com/v10/finance/quoteSummary/SOLV?modules=financialData%2CquoteType%2CdefaultKeyStatistics%2CassetProfile%2CsummaryDetail&corsDomain=finance.yahoo.com&formatted=false&symbol=SOLV&crumb=Edge%3A+Too+Many+Requests\n"
     ]
    },
    {
     "name": "stdout",
     "output_type": "stream",
     "text": [
      "Error collecting data for SOLV: Expecting value: line 1 column 1 (char 0)\n",
      "Collecting current data for SO...\n"
     ]
    },
    {
     "name": "stderr",
     "output_type": "stream",
     "text": [
      "429 Client Error: Too Many Requests for url: https://query2.finance.yahoo.com/v10/finance/quoteSummary/SO?modules=financialData%2CquoteType%2CdefaultKeyStatistics%2CassetProfile%2CsummaryDetail&corsDomain=finance.yahoo.com&formatted=false&symbol=SO&crumb=Edge%3A+Too+Many+Requests\n"
     ]
    },
    {
     "name": "stdout",
     "output_type": "stream",
     "text": [
      "Error collecting data for SO: Expecting value: line 1 column 1 (char 0)\n",
      "Collecting current data for LUV...\n"
     ]
    },
    {
     "name": "stderr",
     "output_type": "stream",
     "text": [
      "429 Client Error: Too Many Requests for url: https://query2.finance.yahoo.com/v10/finance/quoteSummary/LUV?modules=financialData%2CquoteType%2CdefaultKeyStatistics%2CassetProfile%2CsummaryDetail&corsDomain=finance.yahoo.com&formatted=false&symbol=LUV&crumb=Edge%3A+Too+Many+Requests\n"
     ]
    },
    {
     "name": "stdout",
     "output_type": "stream",
     "text": [
      "Error collecting data for LUV: Expecting value: line 1 column 1 (char 0)\n",
      "Collecting current data for SWK...\n"
     ]
    },
    {
     "name": "stderr",
     "output_type": "stream",
     "text": [
      "429 Client Error: Too Many Requests for url: https://query2.finance.yahoo.com/v10/finance/quoteSummary/SWK?modules=financialData%2CquoteType%2CdefaultKeyStatistics%2CassetProfile%2CsummaryDetail&corsDomain=finance.yahoo.com&formatted=false&symbol=SWK&crumb=Edge%3A+Too+Many+Requests\n"
     ]
    },
    {
     "name": "stdout",
     "output_type": "stream",
     "text": [
      "Error collecting data for SWK: Expecting value: line 1 column 1 (char 0)\n",
      "Collecting current data for SBUX...\n"
     ]
    },
    {
     "name": "stderr",
     "output_type": "stream",
     "text": [
      "429 Client Error: Too Many Requests for url: https://query2.finance.yahoo.com/v10/finance/quoteSummary/SBUX?modules=financialData%2CquoteType%2CdefaultKeyStatistics%2CassetProfile%2CsummaryDetail&corsDomain=finance.yahoo.com&formatted=false&symbol=SBUX&crumb=Edge%3A+Too+Many+Requests\n"
     ]
    },
    {
     "name": "stdout",
     "output_type": "stream",
     "text": [
      "Error collecting data for SBUX: Expecting value: line 1 column 1 (char 0)\n",
      "Collecting current data for STT...\n"
     ]
    },
    {
     "name": "stderr",
     "output_type": "stream",
     "text": [
      "429 Client Error: Too Many Requests for url: https://query2.finance.yahoo.com/v10/finance/quoteSummary/STT?modules=financialData%2CquoteType%2CdefaultKeyStatistics%2CassetProfile%2CsummaryDetail&corsDomain=finance.yahoo.com&formatted=false&symbol=STT&crumb=Edge%3A+Too+Many+Requests\n"
     ]
    },
    {
     "name": "stdout",
     "output_type": "stream",
     "text": [
      "Error collecting data for STT: Expecting value: line 1 column 1 (char 0)\n",
      "Collecting current data for STLD...\n"
     ]
    },
    {
     "name": "stderr",
     "output_type": "stream",
     "text": [
      "429 Client Error: Too Many Requests for url: https://query2.finance.yahoo.com/v10/finance/quoteSummary/STLD?modules=financialData%2CquoteType%2CdefaultKeyStatistics%2CassetProfile%2CsummaryDetail&corsDomain=finance.yahoo.com&formatted=false&symbol=STLD&crumb=Edge%3A+Too+Many+Requests\n"
     ]
    },
    {
     "name": "stdout",
     "output_type": "stream",
     "text": [
      "Error collecting data for STLD: Expecting value: line 1 column 1 (char 0)\n",
      "Collecting current data for STE...\n"
     ]
    },
    {
     "name": "stderr",
     "output_type": "stream",
     "text": [
      "429 Client Error: Too Many Requests for url: https://query2.finance.yahoo.com/v10/finance/quoteSummary/STE?modules=financialData%2CquoteType%2CdefaultKeyStatistics%2CassetProfile%2CsummaryDetail&corsDomain=finance.yahoo.com&formatted=false&symbol=STE&crumb=Edge%3A+Too+Many+Requests\n"
     ]
    },
    {
     "name": "stdout",
     "output_type": "stream",
     "text": [
      "Error collecting data for STE: Expecting value: line 1 column 1 (char 0)\n",
      "Collecting current data for SYK...\n"
     ]
    },
    {
     "name": "stderr",
     "output_type": "stream",
     "text": [
      "429 Client Error: Too Many Requests for url: https://query2.finance.yahoo.com/v10/finance/quoteSummary/SYK?modules=financialData%2CquoteType%2CdefaultKeyStatistics%2CassetProfile%2CsummaryDetail&corsDomain=finance.yahoo.com&formatted=false&symbol=SYK&crumb=Edge%3A+Too+Many+Requests\n"
     ]
    },
    {
     "name": "stdout",
     "output_type": "stream",
     "text": [
      "Error collecting data for SYK: Expecting value: line 1 column 1 (char 0)\n",
      "Collecting current data for SMCI...\n"
     ]
    },
    {
     "name": "stderr",
     "output_type": "stream",
     "text": [
      "429 Client Error: Too Many Requests for url: https://query2.finance.yahoo.com/v10/finance/quoteSummary/SMCI?modules=financialData%2CquoteType%2CdefaultKeyStatistics%2CassetProfile%2CsummaryDetail&corsDomain=finance.yahoo.com&formatted=false&symbol=SMCI&crumb=Edge%3A+Too+Many+Requests\n"
     ]
    },
    {
     "name": "stdout",
     "output_type": "stream",
     "text": [
      "Error collecting data for SMCI: Expecting value: line 1 column 1 (char 0)\n",
      "Collecting current data for SYF...\n"
     ]
    },
    {
     "name": "stderr",
     "output_type": "stream",
     "text": [
      "429 Client Error: Too Many Requests for url: https://query2.finance.yahoo.com/v10/finance/quoteSummary/SYF?modules=financialData%2CquoteType%2CdefaultKeyStatistics%2CassetProfile%2CsummaryDetail&corsDomain=finance.yahoo.com&formatted=false&symbol=SYF&crumb=Edge%3A+Too+Many+Requests\n"
     ]
    },
    {
     "name": "stdout",
     "output_type": "stream",
     "text": [
      "Error collecting data for SYF: Expecting value: line 1 column 1 (char 0)\n",
      "Collecting current data for SNPS...\n"
     ]
    },
    {
     "name": "stderr",
     "output_type": "stream",
     "text": [
      "429 Client Error: Too Many Requests for url: https://query2.finance.yahoo.com/v10/finance/quoteSummary/SNPS?modules=financialData%2CquoteType%2CdefaultKeyStatistics%2CassetProfile%2CsummaryDetail&corsDomain=finance.yahoo.com&formatted=false&symbol=SNPS&crumb=Edge%3A+Too+Many+Requests\n"
     ]
    },
    {
     "name": "stdout",
     "output_type": "stream",
     "text": [
      "Error collecting data for SNPS: Expecting value: line 1 column 1 (char 0)\n",
      "Collecting current data for SYY...\n"
     ]
    },
    {
     "name": "stderr",
     "output_type": "stream",
     "text": [
      "429 Client Error: Too Many Requests for url: https://query2.finance.yahoo.com/v10/finance/quoteSummary/SYY?modules=financialData%2CquoteType%2CdefaultKeyStatistics%2CassetProfile%2CsummaryDetail&corsDomain=finance.yahoo.com&formatted=false&symbol=SYY&crumb=Edge%3A+Too+Many+Requests\n"
     ]
    },
    {
     "name": "stdout",
     "output_type": "stream",
     "text": [
      "Error collecting data for SYY: Expecting value: line 1 column 1 (char 0)\n",
      "Collecting current data for TMUS...\n"
     ]
    },
    {
     "name": "stderr",
     "output_type": "stream",
     "text": [
      "429 Client Error: Too Many Requests for url: https://query2.finance.yahoo.com/v10/finance/quoteSummary/TMUS?modules=financialData%2CquoteType%2CdefaultKeyStatistics%2CassetProfile%2CsummaryDetail&corsDomain=finance.yahoo.com&formatted=false&symbol=TMUS&crumb=Edge%3A+Too+Many+Requests\n"
     ]
    },
    {
     "name": "stdout",
     "output_type": "stream",
     "text": [
      "Error collecting data for TMUS: Expecting value: line 1 column 1 (char 0)\n",
      "Collecting current data for TROW...\n"
     ]
    },
    {
     "name": "stderr",
     "output_type": "stream",
     "text": [
      "429 Client Error: Too Many Requests for url: https://query2.finance.yahoo.com/v10/finance/quoteSummary/TROW?modules=financialData%2CquoteType%2CdefaultKeyStatistics%2CassetProfile%2CsummaryDetail&corsDomain=finance.yahoo.com&formatted=false&symbol=TROW&crumb=Edge%3A+Too+Many+Requests\n"
     ]
    },
    {
     "name": "stdout",
     "output_type": "stream",
     "text": [
      "Error collecting data for TROW: Expecting value: line 1 column 1 (char 0)\n",
      "Collecting current data for TTWO...\n"
     ]
    },
    {
     "name": "stderr",
     "output_type": "stream",
     "text": [
      "429 Client Error: Too Many Requests for url: https://query2.finance.yahoo.com/v10/finance/quoteSummary/TTWO?modules=financialData%2CquoteType%2CdefaultKeyStatistics%2CassetProfile%2CsummaryDetail&corsDomain=finance.yahoo.com&formatted=false&symbol=TTWO&crumb=Edge%3A+Too+Many+Requests\n"
     ]
    },
    {
     "name": "stdout",
     "output_type": "stream",
     "text": [
      "Error collecting data for TTWO: Expecting value: line 1 column 1 (char 0)\n",
      "Collecting current data for TPR...\n"
     ]
    },
    {
     "name": "stderr",
     "output_type": "stream",
     "text": [
      "429 Client Error: Too Many Requests for url: https://query2.finance.yahoo.com/v10/finance/quoteSummary/TPR?modules=financialData%2CquoteType%2CdefaultKeyStatistics%2CassetProfile%2CsummaryDetail&corsDomain=finance.yahoo.com&formatted=false&symbol=TPR&crumb=Edge%3A+Too+Many+Requests\n"
     ]
    },
    {
     "name": "stdout",
     "output_type": "stream",
     "text": [
      "Error collecting data for TPR: Expecting value: line 1 column 1 (char 0)\n",
      "Collecting current data for TRGP...\n"
     ]
    },
    {
     "name": "stderr",
     "output_type": "stream",
     "text": [
      "429 Client Error: Too Many Requests for url: https://query2.finance.yahoo.com/v10/finance/quoteSummary/TRGP?modules=financialData%2CquoteType%2CdefaultKeyStatistics%2CassetProfile%2CsummaryDetail&corsDomain=finance.yahoo.com&formatted=false&symbol=TRGP&crumb=Edge%3A+Too+Many+Requests\n"
     ]
    },
    {
     "name": "stdout",
     "output_type": "stream",
     "text": [
      "Error collecting data for TRGP: Expecting value: line 1 column 1 (char 0)\n",
      "Collecting current data for TGT...\n"
     ]
    },
    {
     "name": "stderr",
     "output_type": "stream",
     "text": [
      "429 Client Error: Too Many Requests for url: https://query2.finance.yahoo.com/v10/finance/quoteSummary/TGT?modules=financialData%2CquoteType%2CdefaultKeyStatistics%2CassetProfile%2CsummaryDetail&corsDomain=finance.yahoo.com&formatted=false&symbol=TGT&crumb=Edge%3A+Too+Many+Requests\n"
     ]
    },
    {
     "name": "stdout",
     "output_type": "stream",
     "text": [
      "Error collecting data for TGT: Expecting value: line 1 column 1 (char 0)\n",
      "Collecting current data for TEL...\n"
     ]
    },
    {
     "name": "stderr",
     "output_type": "stream",
     "text": [
      "429 Client Error: Too Many Requests for url: https://query2.finance.yahoo.com/v10/finance/quoteSummary/TEL?modules=financialData%2CquoteType%2CdefaultKeyStatistics%2CassetProfile%2CsummaryDetail&corsDomain=finance.yahoo.com&formatted=false&symbol=TEL&crumb=Edge%3A+Too+Many+Requests\n"
     ]
    },
    {
     "name": "stdout",
     "output_type": "stream",
     "text": [
      "Error collecting data for TEL: Expecting value: line 1 column 1 (char 0)\n",
      "Collecting current data for TDY...\n"
     ]
    },
    {
     "name": "stderr",
     "output_type": "stream",
     "text": [
      "429 Client Error: Too Many Requests for url: https://query2.finance.yahoo.com/v10/finance/quoteSummary/TDY?modules=financialData%2CquoteType%2CdefaultKeyStatistics%2CassetProfile%2CsummaryDetail&corsDomain=finance.yahoo.com&formatted=false&symbol=TDY&crumb=Edge%3A+Too+Many+Requests\n"
     ]
    },
    {
     "name": "stdout",
     "output_type": "stream",
     "text": [
      "Error collecting data for TDY: Expecting value: line 1 column 1 (char 0)\n",
      "Collecting current data for TFX...\n"
     ]
    },
    {
     "name": "stderr",
     "output_type": "stream",
     "text": [
      "429 Client Error: Too Many Requests for url: https://query2.finance.yahoo.com/v10/finance/quoteSummary/TFX?modules=financialData%2CquoteType%2CdefaultKeyStatistics%2CassetProfile%2CsummaryDetail&corsDomain=finance.yahoo.com&formatted=false&symbol=TFX&crumb=Edge%3A+Too+Many+Requests\n"
     ]
    },
    {
     "name": "stdout",
     "output_type": "stream",
     "text": [
      "Error collecting data for TFX: Expecting value: line 1 column 1 (char 0)\n",
      "Collecting current data for TER...\n"
     ]
    },
    {
     "name": "stderr",
     "output_type": "stream",
     "text": [
      "429 Client Error: Too Many Requests for url: https://query2.finance.yahoo.com/v10/finance/quoteSummary/TER?modules=financialData%2CquoteType%2CdefaultKeyStatistics%2CassetProfile%2CsummaryDetail&corsDomain=finance.yahoo.com&formatted=false&symbol=TER&crumb=Edge%3A+Too+Many+Requests\n"
     ]
    },
    {
     "name": "stdout",
     "output_type": "stream",
     "text": [
      "Error collecting data for TER: Expecting value: line 1 column 1 (char 0)\n",
      "Collecting current data for TSLA...\n"
     ]
    },
    {
     "name": "stderr",
     "output_type": "stream",
     "text": [
      "429 Client Error: Too Many Requests for url: https://query2.finance.yahoo.com/v10/finance/quoteSummary/TSLA?modules=financialData%2CquoteType%2CdefaultKeyStatistics%2CassetProfile%2CsummaryDetail&corsDomain=finance.yahoo.com&formatted=false&symbol=TSLA&crumb=Edge%3A+Too+Many+Requests\n"
     ]
    },
    {
     "name": "stdout",
     "output_type": "stream",
     "text": [
      "Error collecting data for TSLA: Expecting value: line 1 column 1 (char 0)\n",
      "Collecting current data for TXN...\n"
     ]
    },
    {
     "name": "stderr",
     "output_type": "stream",
     "text": [
      "429 Client Error: Too Many Requests for url: https://query2.finance.yahoo.com/v10/finance/quoteSummary/TXN?modules=financialData%2CquoteType%2CdefaultKeyStatistics%2CassetProfile%2CsummaryDetail&corsDomain=finance.yahoo.com&formatted=false&symbol=TXN&crumb=Edge%3A+Too+Many+Requests\n"
     ]
    },
    {
     "name": "stdout",
     "output_type": "stream",
     "text": [
      "Error collecting data for TXN: Expecting value: line 1 column 1 (char 0)\n",
      "Collecting current data for TPL...\n"
     ]
    },
    {
     "name": "stderr",
     "output_type": "stream",
     "text": [
      "429 Client Error: Too Many Requests for url: https://query2.finance.yahoo.com/v10/finance/quoteSummary/TPL?modules=financialData%2CquoteType%2CdefaultKeyStatistics%2CassetProfile%2CsummaryDetail&corsDomain=finance.yahoo.com&formatted=false&symbol=TPL&crumb=Edge%3A+Too+Many+Requests\n"
     ]
    },
    {
     "name": "stdout",
     "output_type": "stream",
     "text": [
      "Error collecting data for TPL: Expecting value: line 1 column 1 (char 0)\n",
      "Collecting current data for TXT...\n"
     ]
    },
    {
     "name": "stderr",
     "output_type": "stream",
     "text": [
      "429 Client Error: Too Many Requests for url: https://query2.finance.yahoo.com/v10/finance/quoteSummary/TXT?modules=financialData%2CquoteType%2CdefaultKeyStatistics%2CassetProfile%2CsummaryDetail&corsDomain=finance.yahoo.com&formatted=false&symbol=TXT&crumb=Edge%3A+Too+Many+Requests\n"
     ]
    },
    {
     "name": "stdout",
     "output_type": "stream",
     "text": [
      "Error collecting data for TXT: Expecting value: line 1 column 1 (char 0)\n",
      "Collecting current data for TMO...\n"
     ]
    },
    {
     "name": "stderr",
     "output_type": "stream",
     "text": [
      "429 Client Error: Too Many Requests for url: https://query2.finance.yahoo.com/v10/finance/quoteSummary/TMO?modules=financialData%2CquoteType%2CdefaultKeyStatistics%2CassetProfile%2CsummaryDetail&corsDomain=finance.yahoo.com&formatted=false&symbol=TMO&crumb=Edge%3A+Too+Many+Requests\n"
     ]
    },
    {
     "name": "stdout",
     "output_type": "stream",
     "text": [
      "Error collecting data for TMO: Expecting value: line 1 column 1 (char 0)\n",
      "Collecting current data for TJX...\n"
     ]
    },
    {
     "name": "stderr",
     "output_type": "stream",
     "text": [
      "429 Client Error: Too Many Requests for url: https://query2.finance.yahoo.com/v10/finance/quoteSummary/TJX?modules=financialData%2CquoteType%2CdefaultKeyStatistics%2CassetProfile%2CsummaryDetail&corsDomain=finance.yahoo.com&formatted=false&symbol=TJX&crumb=Edge%3A+Too+Many+Requests\n"
     ]
    },
    {
     "name": "stdout",
     "output_type": "stream",
     "text": [
      "Error collecting data for TJX: Expecting value: line 1 column 1 (char 0)\n",
      "Collecting current data for TSCO...\n"
     ]
    },
    {
     "name": "stderr",
     "output_type": "stream",
     "text": [
      "429 Client Error: Too Many Requests for url: https://query2.finance.yahoo.com/v10/finance/quoteSummary/TSCO?modules=financialData%2CquoteType%2CdefaultKeyStatistics%2CassetProfile%2CsummaryDetail&corsDomain=finance.yahoo.com&formatted=false&symbol=TSCO&crumb=Edge%3A+Too+Many+Requests\n"
     ]
    },
    {
     "name": "stdout",
     "output_type": "stream",
     "text": [
      "Error collecting data for TSCO: Expecting value: line 1 column 1 (char 0)\n",
      "Collecting current data for TT...\n"
     ]
    },
    {
     "name": "stderr",
     "output_type": "stream",
     "text": [
      "429 Client Error: Too Many Requests for url: https://query2.finance.yahoo.com/v10/finance/quoteSummary/TT?modules=financialData%2CquoteType%2CdefaultKeyStatistics%2CassetProfile%2CsummaryDetail&corsDomain=finance.yahoo.com&formatted=false&symbol=TT&crumb=Edge%3A+Too+Many+Requests\n"
     ]
    },
    {
     "name": "stdout",
     "output_type": "stream",
     "text": [
      "Error collecting data for TT: Expecting value: line 1 column 1 (char 0)\n",
      "Collecting current data for TDG...\n"
     ]
    },
    {
     "name": "stderr",
     "output_type": "stream",
     "text": [
      "429 Client Error: Too Many Requests for url: https://query2.finance.yahoo.com/v10/finance/quoteSummary/TDG?modules=financialData%2CquoteType%2CdefaultKeyStatistics%2CassetProfile%2CsummaryDetail&corsDomain=finance.yahoo.com&formatted=false&symbol=TDG&crumb=Edge%3A+Too+Many+Requests\n"
     ]
    },
    {
     "name": "stdout",
     "output_type": "stream",
     "text": [
      "Error collecting data for TDG: Expecting value: line 1 column 1 (char 0)\n",
      "Collecting current data for TRV...\n"
     ]
    },
    {
     "name": "stderr",
     "output_type": "stream",
     "text": [
      "429 Client Error: Too Many Requests for url: https://query2.finance.yahoo.com/v10/finance/quoteSummary/TRV?modules=financialData%2CquoteType%2CdefaultKeyStatistics%2CassetProfile%2CsummaryDetail&corsDomain=finance.yahoo.com&formatted=false&symbol=TRV&crumb=Edge%3A+Too+Many+Requests\n"
     ]
    },
    {
     "name": "stdout",
     "output_type": "stream",
     "text": [
      "Error collecting data for TRV: Expecting value: line 1 column 1 (char 0)\n",
      "Collecting current data for TRMB...\n"
     ]
    },
    {
     "name": "stderr",
     "output_type": "stream",
     "text": [
      "429 Client Error: Too Many Requests for url: https://query2.finance.yahoo.com/v10/finance/quoteSummary/TRMB?modules=financialData%2CquoteType%2CdefaultKeyStatistics%2CassetProfile%2CsummaryDetail&corsDomain=finance.yahoo.com&formatted=false&symbol=TRMB&crumb=Edge%3A+Too+Many+Requests\n"
     ]
    },
    {
     "name": "stdout",
     "output_type": "stream",
     "text": [
      "Error collecting data for TRMB: Expecting value: line 1 column 1 (char 0)\n",
      "Collecting current data for TFC...\n"
     ]
    },
    {
     "name": "stderr",
     "output_type": "stream",
     "text": [
      "429 Client Error: Too Many Requests for url: https://query2.finance.yahoo.com/v10/finance/quoteSummary/TFC?modules=financialData%2CquoteType%2CdefaultKeyStatistics%2CassetProfile%2CsummaryDetail&corsDomain=finance.yahoo.com&formatted=false&symbol=TFC&crumb=Edge%3A+Too+Many+Requests\n"
     ]
    },
    {
     "name": "stdout",
     "output_type": "stream",
     "text": [
      "Error collecting data for TFC: Expecting value: line 1 column 1 (char 0)\n",
      "Collecting current data for TYL...\n"
     ]
    },
    {
     "name": "stderr",
     "output_type": "stream",
     "text": [
      "429 Client Error: Too Many Requests for url: https://query2.finance.yahoo.com/v10/finance/quoteSummary/TYL?modules=financialData%2CquoteType%2CdefaultKeyStatistics%2CassetProfile%2CsummaryDetail&corsDomain=finance.yahoo.com&formatted=false&symbol=TYL&crumb=Edge%3A+Too+Many+Requests\n"
     ]
    },
    {
     "name": "stdout",
     "output_type": "stream",
     "text": [
      "Error collecting data for TYL: Expecting value: line 1 column 1 (char 0)\n",
      "Collecting current data for TSN...\n"
     ]
    },
    {
     "name": "stderr",
     "output_type": "stream",
     "text": [
      "429 Client Error: Too Many Requests for url: https://query2.finance.yahoo.com/v10/finance/quoteSummary/TSN?modules=financialData%2CquoteType%2CdefaultKeyStatistics%2CassetProfile%2CsummaryDetail&corsDomain=finance.yahoo.com&formatted=false&symbol=TSN&crumb=Edge%3A+Too+Many+Requests\n"
     ]
    },
    {
     "name": "stdout",
     "output_type": "stream",
     "text": [
      "Error collecting data for TSN: Expecting value: line 1 column 1 (char 0)\n",
      "Collecting current data for USB...\n"
     ]
    },
    {
     "name": "stderr",
     "output_type": "stream",
     "text": [
      "429 Client Error: Too Many Requests for url: https://query2.finance.yahoo.com/v10/finance/quoteSummary/USB?modules=financialData%2CquoteType%2CdefaultKeyStatistics%2CassetProfile%2CsummaryDetail&corsDomain=finance.yahoo.com&formatted=false&symbol=USB&crumb=Edge%3A+Too+Many+Requests\n"
     ]
    },
    {
     "name": "stdout",
     "output_type": "stream",
     "text": [
      "Error collecting data for USB: Expecting value: line 1 column 1 (char 0)\n",
      "Collecting current data for UBER...\n"
     ]
    },
    {
     "name": "stderr",
     "output_type": "stream",
     "text": [
      "429 Client Error: Too Many Requests for url: https://query2.finance.yahoo.com/v10/finance/quoteSummary/UBER?modules=financialData%2CquoteType%2CdefaultKeyStatistics%2CassetProfile%2CsummaryDetail&corsDomain=finance.yahoo.com&formatted=false&symbol=UBER&crumb=Edge%3A+Too+Many+Requests\n"
     ]
    },
    {
     "name": "stdout",
     "output_type": "stream",
     "text": [
      "Error collecting data for UBER: Expecting value: line 1 column 1 (char 0)\n",
      "Collecting current data for UDR...\n"
     ]
    },
    {
     "name": "stderr",
     "output_type": "stream",
     "text": [
      "429 Client Error: Too Many Requests for url: https://query2.finance.yahoo.com/v10/finance/quoteSummary/UDR?modules=financialData%2CquoteType%2CdefaultKeyStatistics%2CassetProfile%2CsummaryDetail&corsDomain=finance.yahoo.com&formatted=false&symbol=UDR&crumb=Edge%3A+Too+Many+Requests\n"
     ]
    },
    {
     "name": "stdout",
     "output_type": "stream",
     "text": [
      "Error collecting data for UDR: Expecting value: line 1 column 1 (char 0)\n",
      "Collecting current data for ULTA...\n"
     ]
    },
    {
     "name": "stderr",
     "output_type": "stream",
     "text": [
      "429 Client Error: Too Many Requests for url: https://query2.finance.yahoo.com/v10/finance/quoteSummary/ULTA?modules=financialData%2CquoteType%2CdefaultKeyStatistics%2CassetProfile%2CsummaryDetail&corsDomain=finance.yahoo.com&formatted=false&symbol=ULTA&crumb=Edge%3A+Too+Many+Requests\n"
     ]
    },
    {
     "name": "stdout",
     "output_type": "stream",
     "text": [
      "Error collecting data for ULTA: Expecting value: line 1 column 1 (char 0)\n",
      "Collecting current data for UNP...\n"
     ]
    },
    {
     "name": "stderr",
     "output_type": "stream",
     "text": [
      "429 Client Error: Too Many Requests for url: https://query2.finance.yahoo.com/v10/finance/quoteSummary/UNP?modules=financialData%2CquoteType%2CdefaultKeyStatistics%2CassetProfile%2CsummaryDetail&corsDomain=finance.yahoo.com&formatted=false&symbol=UNP&crumb=Edge%3A+Too+Many+Requests\n"
     ]
    },
    {
     "name": "stdout",
     "output_type": "stream",
     "text": [
      "Error collecting data for UNP: Expecting value: line 1 column 1 (char 0)\n",
      "Collecting current data for UAL...\n"
     ]
    },
    {
     "name": "stderr",
     "output_type": "stream",
     "text": [
      "429 Client Error: Too Many Requests for url: https://query2.finance.yahoo.com/v10/finance/quoteSummary/UAL?modules=financialData%2CquoteType%2CdefaultKeyStatistics%2CassetProfile%2CsummaryDetail&corsDomain=finance.yahoo.com&formatted=false&symbol=UAL&crumb=Edge%3A+Too+Many+Requests\n"
     ]
    },
    {
     "name": "stdout",
     "output_type": "stream",
     "text": [
      "Error collecting data for UAL: Expecting value: line 1 column 1 (char 0)\n",
      "Collecting current data for UPS...\n"
     ]
    },
    {
     "name": "stderr",
     "output_type": "stream",
     "text": [
      "429 Client Error: Too Many Requests for url: https://query2.finance.yahoo.com/v10/finance/quoteSummary/UPS?modules=financialData%2CquoteType%2CdefaultKeyStatistics%2CassetProfile%2CsummaryDetail&corsDomain=finance.yahoo.com&formatted=false&symbol=UPS&crumb=Edge%3A+Too+Many+Requests\n"
     ]
    },
    {
     "name": "stdout",
     "output_type": "stream",
     "text": [
      "Error collecting data for UPS: Expecting value: line 1 column 1 (char 0)\n",
      "Collecting current data for URI...\n"
     ]
    },
    {
     "name": "stderr",
     "output_type": "stream",
     "text": [
      "429 Client Error: Too Many Requests for url: https://query2.finance.yahoo.com/v10/finance/quoteSummary/URI?modules=financialData%2CquoteType%2CdefaultKeyStatistics%2CassetProfile%2CsummaryDetail&corsDomain=finance.yahoo.com&formatted=false&symbol=URI&crumb=Edge%3A+Too+Many+Requests\n"
     ]
    },
    {
     "name": "stdout",
     "output_type": "stream",
     "text": [
      "Error collecting data for URI: Expecting value: line 1 column 1 (char 0)\n",
      "Collecting current data for UNH...\n"
     ]
    },
    {
     "name": "stderr",
     "output_type": "stream",
     "text": [
      "429 Client Error: Too Many Requests for url: https://query2.finance.yahoo.com/v10/finance/quoteSummary/UNH?modules=financialData%2CquoteType%2CdefaultKeyStatistics%2CassetProfile%2CsummaryDetail&corsDomain=finance.yahoo.com&formatted=false&symbol=UNH&crumb=Edge%3A+Too+Many+Requests\n"
     ]
    },
    {
     "name": "stdout",
     "output_type": "stream",
     "text": [
      "Error collecting data for UNH: Expecting value: line 1 column 1 (char 0)\n",
      "Collecting current data for UHS...\n"
     ]
    },
    {
     "name": "stderr",
     "output_type": "stream",
     "text": [
      "429 Client Error: Too Many Requests for url: https://query2.finance.yahoo.com/v10/finance/quoteSummary/UHS?modules=financialData%2CquoteType%2CdefaultKeyStatistics%2CassetProfile%2CsummaryDetail&corsDomain=finance.yahoo.com&formatted=false&symbol=UHS&crumb=Edge%3A+Too+Many+Requests\n"
     ]
    },
    {
     "name": "stdout",
     "output_type": "stream",
     "text": [
      "Error collecting data for UHS: Expecting value: line 1 column 1 (char 0)\n",
      "Collecting current data for VLO...\n"
     ]
    },
    {
     "name": "stderr",
     "output_type": "stream",
     "text": [
      "429 Client Error: Too Many Requests for url: https://query2.finance.yahoo.com/v10/finance/quoteSummary/VLO?modules=financialData%2CquoteType%2CdefaultKeyStatistics%2CassetProfile%2CsummaryDetail&corsDomain=finance.yahoo.com&formatted=false&symbol=VLO&crumb=Edge%3A+Too+Many+Requests\n"
     ]
    },
    {
     "name": "stdout",
     "output_type": "stream",
     "text": [
      "Error collecting data for VLO: Expecting value: line 1 column 1 (char 0)\n",
      "Collecting current data for VTR...\n"
     ]
    },
    {
     "name": "stderr",
     "output_type": "stream",
     "text": [
      "429 Client Error: Too Many Requests for url: https://query2.finance.yahoo.com/v10/finance/quoteSummary/VTR?modules=financialData%2CquoteType%2CdefaultKeyStatistics%2CassetProfile%2CsummaryDetail&corsDomain=finance.yahoo.com&formatted=false&symbol=VTR&crumb=Edge%3A+Too+Many+Requests\n"
     ]
    },
    {
     "name": "stdout",
     "output_type": "stream",
     "text": [
      "Error collecting data for VTR: Expecting value: line 1 column 1 (char 0)\n",
      "Collecting current data for VLTO...\n"
     ]
    },
    {
     "name": "stderr",
     "output_type": "stream",
     "text": [
      "429 Client Error: Too Many Requests for url: https://query2.finance.yahoo.com/v10/finance/quoteSummary/VLTO?modules=financialData%2CquoteType%2CdefaultKeyStatistics%2CassetProfile%2CsummaryDetail&corsDomain=finance.yahoo.com&formatted=false&symbol=VLTO&crumb=Edge%3A+Too+Many+Requests\n"
     ]
    },
    {
     "name": "stdout",
     "output_type": "stream",
     "text": [
      "Error collecting data for VLTO: Expecting value: line 1 column 1 (char 0)\n",
      "Collecting current data for VRSN...\n"
     ]
    },
    {
     "name": "stderr",
     "output_type": "stream",
     "text": [
      "429 Client Error: Too Many Requests for url: https://query2.finance.yahoo.com/v10/finance/quoteSummary/VRSN?modules=financialData%2CquoteType%2CdefaultKeyStatistics%2CassetProfile%2CsummaryDetail&corsDomain=finance.yahoo.com&formatted=false&symbol=VRSN&crumb=Edge%3A+Too+Many+Requests\n"
     ]
    },
    {
     "name": "stdout",
     "output_type": "stream",
     "text": [
      "Error collecting data for VRSN: Expecting value: line 1 column 1 (char 0)\n",
      "Collecting current data for VRSK...\n"
     ]
    },
    {
     "name": "stderr",
     "output_type": "stream",
     "text": [
      "429 Client Error: Too Many Requests for url: https://query2.finance.yahoo.com/v10/finance/quoteSummary/VRSK?modules=financialData%2CquoteType%2CdefaultKeyStatistics%2CassetProfile%2CsummaryDetail&corsDomain=finance.yahoo.com&formatted=false&symbol=VRSK&crumb=Edge%3A+Too+Many+Requests\n"
     ]
    },
    {
     "name": "stdout",
     "output_type": "stream",
     "text": [
      "Error collecting data for VRSK: Expecting value: line 1 column 1 (char 0)\n",
      "Collecting current data for VZ...\n"
     ]
    },
    {
     "name": "stderr",
     "output_type": "stream",
     "text": [
      "429 Client Error: Too Many Requests for url: https://query2.finance.yahoo.com/v10/finance/quoteSummary/VZ?modules=financialData%2CquoteType%2CdefaultKeyStatistics%2CassetProfile%2CsummaryDetail&corsDomain=finance.yahoo.com&formatted=false&symbol=VZ&crumb=Edge%3A+Too+Many+Requests\n"
     ]
    },
    {
     "name": "stdout",
     "output_type": "stream",
     "text": [
      "Error collecting data for VZ: Expecting value: line 1 column 1 (char 0)\n",
      "Collecting current data for VRTX...\n"
     ]
    },
    {
     "name": "stderr",
     "output_type": "stream",
     "text": [
      "429 Client Error: Too Many Requests for url: https://query2.finance.yahoo.com/v10/finance/quoteSummary/VRTX?modules=financialData%2CquoteType%2CdefaultKeyStatistics%2CassetProfile%2CsummaryDetail&corsDomain=finance.yahoo.com&formatted=false&symbol=VRTX&crumb=Edge%3A+Too+Many+Requests\n"
     ]
    },
    {
     "name": "stdout",
     "output_type": "stream",
     "text": [
      "Error collecting data for VRTX: Expecting value: line 1 column 1 (char 0)\n",
      "Collecting current data for VTRS...\n"
     ]
    },
    {
     "name": "stderr",
     "output_type": "stream",
     "text": [
      "429 Client Error: Too Many Requests for url: https://query2.finance.yahoo.com/v10/finance/quoteSummary/VTRS?modules=financialData%2CquoteType%2CdefaultKeyStatistics%2CassetProfile%2CsummaryDetail&corsDomain=finance.yahoo.com&formatted=false&symbol=VTRS&crumb=Edge%3A+Too+Many+Requests\n"
     ]
    },
    {
     "name": "stdout",
     "output_type": "stream",
     "text": [
      "Error collecting data for VTRS: Expecting value: line 1 column 1 (char 0)\n",
      "Collecting current data for VICI...\n"
     ]
    },
    {
     "name": "stderr",
     "output_type": "stream",
     "text": [
      "429 Client Error: Too Many Requests for url: https://query2.finance.yahoo.com/v10/finance/quoteSummary/VICI?modules=financialData%2CquoteType%2CdefaultKeyStatistics%2CassetProfile%2CsummaryDetail&corsDomain=finance.yahoo.com&formatted=false&symbol=VICI&crumb=Edge%3A+Too+Many+Requests\n"
     ]
    },
    {
     "name": "stdout",
     "output_type": "stream",
     "text": [
      "Error collecting data for VICI: Expecting value: line 1 column 1 (char 0)\n",
      "Collecting current data for V...\n"
     ]
    },
    {
     "name": "stderr",
     "output_type": "stream",
     "text": [
      "429 Client Error: Too Many Requests for url: https://query2.finance.yahoo.com/v10/finance/quoteSummary/V?modules=financialData%2CquoteType%2CdefaultKeyStatistics%2CassetProfile%2CsummaryDetail&corsDomain=finance.yahoo.com&formatted=false&symbol=V&crumb=Edge%3A+Too+Many+Requests\n"
     ]
    },
    {
     "name": "stdout",
     "output_type": "stream",
     "text": [
      "Error collecting data for V: Expecting value: line 1 column 1 (char 0)\n",
      "Collecting current data for VST...\n"
     ]
    },
    {
     "name": "stderr",
     "output_type": "stream",
     "text": [
      "429 Client Error: Too Many Requests for url: https://query2.finance.yahoo.com/v10/finance/quoteSummary/VST?modules=financialData%2CquoteType%2CdefaultKeyStatistics%2CassetProfile%2CsummaryDetail&corsDomain=finance.yahoo.com&formatted=false&symbol=VST&crumb=Edge%3A+Too+Many+Requests\n"
     ]
    },
    {
     "name": "stdout",
     "output_type": "stream",
     "text": [
      "Error collecting data for VST: Expecting value: line 1 column 1 (char 0)\n",
      "Collecting current data for VMC...\n"
     ]
    },
    {
     "name": "stderr",
     "output_type": "stream",
     "text": [
      "429 Client Error: Too Many Requests for url: https://query2.finance.yahoo.com/v10/finance/quoteSummary/VMC?modules=financialData%2CquoteType%2CdefaultKeyStatistics%2CassetProfile%2CsummaryDetail&corsDomain=finance.yahoo.com&formatted=false&symbol=VMC&crumb=Edge%3A+Too+Many+Requests\n"
     ]
    },
    {
     "name": "stdout",
     "output_type": "stream",
     "text": [
      "Error collecting data for VMC: Expecting value: line 1 column 1 (char 0)\n",
      "Collecting current data for WRB...\n"
     ]
    },
    {
     "name": "stderr",
     "output_type": "stream",
     "text": [
      "429 Client Error: Too Many Requests for url: https://query2.finance.yahoo.com/v10/finance/quoteSummary/WRB?modules=financialData%2CquoteType%2CdefaultKeyStatistics%2CassetProfile%2CsummaryDetail&corsDomain=finance.yahoo.com&formatted=false&symbol=WRB&crumb=Edge%3A+Too+Many+Requests\n"
     ]
    },
    {
     "name": "stdout",
     "output_type": "stream",
     "text": [
      "Error collecting data for WRB: Expecting value: line 1 column 1 (char 0)\n",
      "Collecting current data for GWW...\n"
     ]
    },
    {
     "name": "stderr",
     "output_type": "stream",
     "text": [
      "429 Client Error: Too Many Requests for url: https://query2.finance.yahoo.com/v10/finance/quoteSummary/GWW?modules=financialData%2CquoteType%2CdefaultKeyStatistics%2CassetProfile%2CsummaryDetail&corsDomain=finance.yahoo.com&formatted=false&symbol=GWW&crumb=Edge%3A+Too+Many+Requests\n"
     ]
    },
    {
     "name": "stdout",
     "output_type": "stream",
     "text": [
      "Error collecting data for GWW: Expecting value: line 1 column 1 (char 0)\n",
      "Collecting current data for WAB...\n"
     ]
    },
    {
     "name": "stderr",
     "output_type": "stream",
     "text": [
      "429 Client Error: Too Many Requests for url: https://query2.finance.yahoo.com/v10/finance/quoteSummary/WAB?modules=financialData%2CquoteType%2CdefaultKeyStatistics%2CassetProfile%2CsummaryDetail&corsDomain=finance.yahoo.com&formatted=false&symbol=WAB&crumb=Edge%3A+Too+Many+Requests\n"
     ]
    },
    {
     "name": "stdout",
     "output_type": "stream",
     "text": [
      "Error collecting data for WAB: Expecting value: line 1 column 1 (char 0)\n",
      "Collecting current data for WBA...\n"
     ]
    },
    {
     "name": "stderr",
     "output_type": "stream",
     "text": [
      "429 Client Error: Too Many Requests for url: https://query2.finance.yahoo.com/v10/finance/quoteSummary/WBA?modules=financialData%2CquoteType%2CdefaultKeyStatistics%2CassetProfile%2CsummaryDetail&corsDomain=finance.yahoo.com&formatted=false&symbol=WBA&crumb=Edge%3A+Too+Many+Requests\n"
     ]
    },
    {
     "name": "stdout",
     "output_type": "stream",
     "text": [
      "Error collecting data for WBA: Expecting value: line 1 column 1 (char 0)\n",
      "Collecting current data for WMT...\n"
     ]
    },
    {
     "name": "stderr",
     "output_type": "stream",
     "text": [
      "429 Client Error: Too Many Requests for url: https://query2.finance.yahoo.com/v10/finance/quoteSummary/WMT?modules=financialData%2CquoteType%2CdefaultKeyStatistics%2CassetProfile%2CsummaryDetail&corsDomain=finance.yahoo.com&formatted=false&symbol=WMT&crumb=Edge%3A+Too+Many+Requests\n"
     ]
    },
    {
     "name": "stdout",
     "output_type": "stream",
     "text": [
      "Error collecting data for WMT: Expecting value: line 1 column 1 (char 0)\n",
      "Collecting current data for DIS...\n"
     ]
    },
    {
     "name": "stderr",
     "output_type": "stream",
     "text": [
      "429 Client Error: Too Many Requests for url: https://query2.finance.yahoo.com/v10/finance/quoteSummary/DIS?modules=financialData%2CquoteType%2CdefaultKeyStatistics%2CassetProfile%2CsummaryDetail&corsDomain=finance.yahoo.com&formatted=false&symbol=DIS&crumb=Edge%3A+Too+Many+Requests\n"
     ]
    },
    {
     "name": "stdout",
     "output_type": "stream",
     "text": [
      "Error collecting data for DIS: Expecting value: line 1 column 1 (char 0)\n",
      "Collecting current data for WBD...\n"
     ]
    },
    {
     "name": "stderr",
     "output_type": "stream",
     "text": [
      "429 Client Error: Too Many Requests for url: https://query2.finance.yahoo.com/v10/finance/quoteSummary/WBD?modules=financialData%2CquoteType%2CdefaultKeyStatistics%2CassetProfile%2CsummaryDetail&corsDomain=finance.yahoo.com&formatted=false&symbol=WBD&crumb=Edge%3A+Too+Many+Requests\n"
     ]
    },
    {
     "name": "stdout",
     "output_type": "stream",
     "text": [
      "Error collecting data for WBD: Expecting value: line 1 column 1 (char 0)\n",
      "Collecting current data for WM...\n"
     ]
    },
    {
     "name": "stderr",
     "output_type": "stream",
     "text": [
      "429 Client Error: Too Many Requests for url: https://query2.finance.yahoo.com/v10/finance/quoteSummary/WM?modules=financialData%2CquoteType%2CdefaultKeyStatistics%2CassetProfile%2CsummaryDetail&corsDomain=finance.yahoo.com&formatted=false&symbol=WM&crumb=Edge%3A+Too+Many+Requests\n"
     ]
    },
    {
     "name": "stdout",
     "output_type": "stream",
     "text": [
      "Error collecting data for WM: Expecting value: line 1 column 1 (char 0)\n",
      "Collecting current data for WAT...\n"
     ]
    },
    {
     "name": "stderr",
     "output_type": "stream",
     "text": [
      "429 Client Error: Too Many Requests for url: https://query2.finance.yahoo.com/v10/finance/quoteSummary/WAT?modules=financialData%2CquoteType%2CdefaultKeyStatistics%2CassetProfile%2CsummaryDetail&corsDomain=finance.yahoo.com&formatted=false&symbol=WAT&crumb=Edge%3A+Too+Many+Requests\n"
     ]
    },
    {
     "name": "stdout",
     "output_type": "stream",
     "text": [
      "Error collecting data for WAT: Expecting value: line 1 column 1 (char 0)\n",
      "Collecting current data for WEC...\n"
     ]
    },
    {
     "name": "stderr",
     "output_type": "stream",
     "text": [
      "429 Client Error: Too Many Requests for url: https://query2.finance.yahoo.com/v10/finance/quoteSummary/WEC?modules=financialData%2CquoteType%2CdefaultKeyStatistics%2CassetProfile%2CsummaryDetail&corsDomain=finance.yahoo.com&formatted=false&symbol=WEC&crumb=Edge%3A+Too+Many+Requests\n"
     ]
    },
    {
     "name": "stdout",
     "output_type": "stream",
     "text": [
      "Error collecting data for WEC: Expecting value: line 1 column 1 (char 0)\n",
      "Collecting current data for WFC...\n"
     ]
    },
    {
     "name": "stderr",
     "output_type": "stream",
     "text": [
      "429 Client Error: Too Many Requests for url: https://query2.finance.yahoo.com/v10/finance/quoteSummary/WFC?modules=financialData%2CquoteType%2CdefaultKeyStatistics%2CassetProfile%2CsummaryDetail&corsDomain=finance.yahoo.com&formatted=false&symbol=WFC&crumb=Edge%3A+Too+Many+Requests\n"
     ]
    },
    {
     "name": "stdout",
     "output_type": "stream",
     "text": [
      "Error collecting data for WFC: Expecting value: line 1 column 1 (char 0)\n",
      "Collecting current data for WELL...\n"
     ]
    },
    {
     "name": "stderr",
     "output_type": "stream",
     "text": [
      "429 Client Error: Too Many Requests for url: https://query2.finance.yahoo.com/v10/finance/quoteSummary/WELL?modules=financialData%2CquoteType%2CdefaultKeyStatistics%2CassetProfile%2CsummaryDetail&corsDomain=finance.yahoo.com&formatted=false&symbol=WELL&crumb=Edge%3A+Too+Many+Requests\n"
     ]
    },
    {
     "name": "stdout",
     "output_type": "stream",
     "text": [
      "Error collecting data for WELL: Expecting value: line 1 column 1 (char 0)\n",
      "Collecting current data for WST...\n"
     ]
    },
    {
     "name": "stderr",
     "output_type": "stream",
     "text": [
      "429 Client Error: Too Many Requests for url: https://query2.finance.yahoo.com/v10/finance/quoteSummary/WST?modules=financialData%2CquoteType%2CdefaultKeyStatistics%2CassetProfile%2CsummaryDetail&corsDomain=finance.yahoo.com&formatted=false&symbol=WST&crumb=Edge%3A+Too+Many+Requests\n"
     ]
    },
    {
     "name": "stdout",
     "output_type": "stream",
     "text": [
      "Error collecting data for WST: Expecting value: line 1 column 1 (char 0)\n",
      "Collecting current data for WDC...\n"
     ]
    },
    {
     "name": "stderr",
     "output_type": "stream",
     "text": [
      "429 Client Error: Too Many Requests for url: https://query2.finance.yahoo.com/v10/finance/quoteSummary/WDC?modules=financialData%2CquoteType%2CdefaultKeyStatistics%2CassetProfile%2CsummaryDetail&corsDomain=finance.yahoo.com&formatted=false&symbol=WDC&crumb=Edge%3A+Too+Many+Requests\n"
     ]
    },
    {
     "name": "stdout",
     "output_type": "stream",
     "text": [
      "Error collecting data for WDC: Expecting value: line 1 column 1 (char 0)\n",
      "Collecting current data for WY...\n"
     ]
    },
    {
     "name": "stderr",
     "output_type": "stream",
     "text": [
      "429 Client Error: Too Many Requests for url: https://query2.finance.yahoo.com/v10/finance/quoteSummary/WY?modules=financialData%2CquoteType%2CdefaultKeyStatistics%2CassetProfile%2CsummaryDetail&corsDomain=finance.yahoo.com&formatted=false&symbol=WY&crumb=Edge%3A+Too+Many+Requests\n"
     ]
    },
    {
     "name": "stdout",
     "output_type": "stream",
     "text": [
      "Error collecting data for WY: Expecting value: line 1 column 1 (char 0)\n",
      "Collecting current data for WMB...\n"
     ]
    },
    {
     "name": "stderr",
     "output_type": "stream",
     "text": [
      "429 Client Error: Too Many Requests for url: https://query2.finance.yahoo.com/v10/finance/quoteSummary/WMB?modules=financialData%2CquoteType%2CdefaultKeyStatistics%2CassetProfile%2CsummaryDetail&corsDomain=finance.yahoo.com&formatted=false&symbol=WMB&crumb=Edge%3A+Too+Many+Requests\n"
     ]
    },
    {
     "name": "stdout",
     "output_type": "stream",
     "text": [
      "Error collecting data for WMB: Expecting value: line 1 column 1 (char 0)\n",
      "Collecting current data for WTW...\n"
     ]
    },
    {
     "name": "stderr",
     "output_type": "stream",
     "text": [
      "429 Client Error: Too Many Requests for url: https://query2.finance.yahoo.com/v10/finance/quoteSummary/WTW?modules=financialData%2CquoteType%2CdefaultKeyStatistics%2CassetProfile%2CsummaryDetail&corsDomain=finance.yahoo.com&formatted=false&symbol=WTW&crumb=Edge%3A+Too+Many+Requests\n"
     ]
    },
    {
     "name": "stdout",
     "output_type": "stream",
     "text": [
      "Error collecting data for WTW: Expecting value: line 1 column 1 (char 0)\n",
      "Collecting current data for WDAY...\n"
     ]
    },
    {
     "name": "stderr",
     "output_type": "stream",
     "text": [
      "429 Client Error: Too Many Requests for url: https://query2.finance.yahoo.com/v10/finance/quoteSummary/WDAY?modules=financialData%2CquoteType%2CdefaultKeyStatistics%2CassetProfile%2CsummaryDetail&corsDomain=finance.yahoo.com&formatted=false&symbol=WDAY&crumb=Edge%3A+Too+Many+Requests\n"
     ]
    },
    {
     "name": "stdout",
     "output_type": "stream",
     "text": [
      "Error collecting data for WDAY: Expecting value: line 1 column 1 (char 0)\n",
      "Collecting current data for WYNN...\n"
     ]
    },
    {
     "name": "stderr",
     "output_type": "stream",
     "text": [
      "429 Client Error: Too Many Requests for url: https://query2.finance.yahoo.com/v10/finance/quoteSummary/WYNN?modules=financialData%2CquoteType%2CdefaultKeyStatistics%2CassetProfile%2CsummaryDetail&corsDomain=finance.yahoo.com&formatted=false&symbol=WYNN&crumb=Edge%3A+Too+Many+Requests\n"
     ]
    },
    {
     "name": "stdout",
     "output_type": "stream",
     "text": [
      "Error collecting data for WYNN: Expecting value: line 1 column 1 (char 0)\n",
      "Collecting current data for XEL...\n"
     ]
    },
    {
     "name": "stderr",
     "output_type": "stream",
     "text": [
      "429 Client Error: Too Many Requests for url: https://query2.finance.yahoo.com/v10/finance/quoteSummary/XEL?modules=financialData%2CquoteType%2CdefaultKeyStatistics%2CassetProfile%2CsummaryDetail&corsDomain=finance.yahoo.com&formatted=false&symbol=XEL&crumb=Edge%3A+Too+Many+Requests\n"
     ]
    },
    {
     "name": "stdout",
     "output_type": "stream",
     "text": [
      "Error collecting data for XEL: Expecting value: line 1 column 1 (char 0)\n",
      "Collecting current data for XYL...\n"
     ]
    },
    {
     "name": "stderr",
     "output_type": "stream",
     "text": [
      "429 Client Error: Too Many Requests for url: https://query2.finance.yahoo.com/v10/finance/quoteSummary/XYL?modules=financialData%2CquoteType%2CdefaultKeyStatistics%2CassetProfile%2CsummaryDetail&corsDomain=finance.yahoo.com&formatted=false&symbol=XYL&crumb=Edge%3A+Too+Many+Requests\n"
     ]
    },
    {
     "name": "stdout",
     "output_type": "stream",
     "text": [
      "Error collecting data for XYL: Expecting value: line 1 column 1 (char 0)\n",
      "Collecting current data for YUM...\n"
     ]
    },
    {
     "name": "stderr",
     "output_type": "stream",
     "text": [
      "429 Client Error: Too Many Requests for url: https://query2.finance.yahoo.com/v10/finance/quoteSummary/YUM?modules=financialData%2CquoteType%2CdefaultKeyStatistics%2CassetProfile%2CsummaryDetail&corsDomain=finance.yahoo.com&formatted=false&symbol=YUM&crumb=Edge%3A+Too+Many+Requests\n"
     ]
    },
    {
     "name": "stdout",
     "output_type": "stream",
     "text": [
      "Error collecting data for YUM: Expecting value: line 1 column 1 (char 0)\n",
      "Collecting current data for ZBRA...\n"
     ]
    },
    {
     "name": "stderr",
     "output_type": "stream",
     "text": [
      "429 Client Error: Too Many Requests for url: https://query2.finance.yahoo.com/v10/finance/quoteSummary/ZBRA?modules=financialData%2CquoteType%2CdefaultKeyStatistics%2CassetProfile%2CsummaryDetail&corsDomain=finance.yahoo.com&formatted=false&symbol=ZBRA&crumb=Edge%3A+Too+Many+Requests\n"
     ]
    },
    {
     "name": "stdout",
     "output_type": "stream",
     "text": [
      "Error collecting data for ZBRA: Expecting value: line 1 column 1 (char 0)\n",
      "Collecting current data for ZBH...\n"
     ]
    },
    {
     "name": "stderr",
     "output_type": "stream",
     "text": [
      "429 Client Error: Too Many Requests for url: https://query2.finance.yahoo.com/v10/finance/quoteSummary/ZBH?modules=financialData%2CquoteType%2CdefaultKeyStatistics%2CassetProfile%2CsummaryDetail&corsDomain=finance.yahoo.com&formatted=false&symbol=ZBH&crumb=Edge%3A+Too+Many+Requests\n"
     ]
    },
    {
     "name": "stdout",
     "output_type": "stream",
     "text": [
      "Error collecting data for ZBH: Expecting value: line 1 column 1 (char 0)\n",
      "Collecting current data for ZTS...\n"
     ]
    },
    {
     "name": "stderr",
     "output_type": "stream",
     "text": [
      "429 Client Error: Too Many Requests for url: https://query2.finance.yahoo.com/v10/finance/quoteSummary/ZTS?modules=financialData%2CquoteType%2CdefaultKeyStatistics%2CassetProfile%2CsummaryDetail&corsDomain=finance.yahoo.com&formatted=false&symbol=ZTS&crumb=Edge%3A+Too+Many+Requests\n"
     ]
    },
    {
     "name": "stdout",
     "output_type": "stream",
     "text": [
      "Error collecting data for ZTS: Expecting value: line 1 column 1 (char 0)\n",
      "    ticker        date   pe_ratio    market_cap enterprise_value  \\\n",
      "0      MMM  2025-02-11  20.618458   81266696192      83424100352   \n",
      "1      AOS  2025-02-11  18.107439    9530522624       9924186112   \n",
      "2      ABT  2025-02-11  17.187172  227751936000     210057101312   \n",
      "3     ABBV  2025-02-11  79.308330  336357425152     374475194368   \n",
      "4      ACN  2025-02-11  32.457214  241991958528     217196363776   \n",
      "..     ...         ...        ...           ...              ...   \n",
      "378     PG  2025-02-11  26.676750  392832712704     405945352192   \n",
      "379    PGR  2025-02-11  17.327550  146271158272     150343155712   \n",
      "380    PLD  2025-02-11  36.093660  110650122240     145402232832   \n",
      "381    PRU  2025-02-11  14.945333   39747112960      50307842048   \n",
      "382    PEG  2025-02-11  20.611794   41796096000      63659130880   \n",
      "\n",
      "     dividend_yield  price_to_book  current_ratio  quick_ratio  \\\n",
      "0            0.0199      17.561005          1.431        0.950   \n",
      "1            0.0196       4.972389          1.673        0.964   \n",
      "2            0.0202       5.723065          1.597        0.996   \n",
      "3            0.0373      55.769115          0.645        0.436   \n",
      "4            0.0170       8.551567          1.099        0.984   \n",
      "..              ...            ...            ...          ...   \n",
      "378          0.0249       7.979139          0.754        0.507   \n",
      "379          0.0199       5.385545          0.309        0.227   \n",
      "380          0.0327       2.087359          0.623        0.417   \n",
      "381          0.0437       1.311684          0.765        0.685   \n",
      "382          0.0286       2.595687          0.681        0.339   \n",
      "\n",
      "     debt_to_equity  ...  income_Insurance And Claims  \\\n",
      "0           295.441  ...                          NaN   \n",
      "1             7.471  ...                          NaN   \n",
      "2            37.589  ...                          NaN   \n",
      "3          1174.815  ...                          NaN   \n",
      "4            14.127  ...                          NaN   \n",
      "..              ...  ...                          ...   \n",
      "378          69.338  ...                          NaN   \n",
      "379          25.375  ...                          NaN   \n",
      "380          57.079  ...                          NaN   \n",
      "381         141.510  ...                          NaN   \n",
      "382         137.098  ...                          NaN   \n",
      "\n",
      "     balance_Current Deferred Taxes Assets  \\\n",
      "0                                      NaN   \n",
      "1                                      NaN   \n",
      "2                                      NaN   \n",
      "3                                      NaN   \n",
      "4                                      NaN   \n",
      "..                                     ...   \n",
      "378                                    NaN   \n",
      "379                                    NaN   \n",
      "380                                    NaN   \n",
      "381                                    NaN   \n",
      "382                                    NaN   \n",
      "\n",
      "    balance_Dueto Related Parties Non Current  \\\n",
      "0                                         NaN   \n",
      "1                                         NaN   \n",
      "2                                         NaN   \n",
      "3                                         NaN   \n",
      "4                                         NaN   \n",
      "..                                        ...   \n",
      "378                                       NaN   \n",
      "379                                       NaN   \n",
      "380                                       NaN   \n",
      "381                                       NaN   \n",
      "382                                       NaN   \n",
      "\n",
      "    income_Depletion Income Statement  balance_Accrued Interest Receivable  \\\n",
      "0                                 NaN                                  NaN   \n",
      "1                                 NaN                                  NaN   \n",
      "2                                 NaN                                  NaN   \n",
      "3                                 NaN                                  NaN   \n",
      "4                                 NaN                                  NaN   \n",
      "..                                ...                                  ...   \n",
      "378                               NaN                                  NaN   \n",
      "379                               NaN                                  NaN   \n",
      "380                               NaN                                  NaN   \n",
      "381                               NaN                                  NaN   \n",
      "382                               NaN                                  NaN   \n",
      "\n",
      "     balance_Duefrom Related Parties Non Current  \\\n",
      "0                                            NaN   \n",
      "1                                            NaN   \n",
      "2                                            NaN   \n",
      "3                                            NaN   \n",
      "4                                            NaN   \n",
      "..                                           ...   \n",
      "378                                          NaN   \n",
      "379                                          NaN   \n",
      "380                                          NaN   \n",
      "381                                          NaN   \n",
      "382                                          NaN   \n",
      "\n",
      "     income_Net Income From Tax Loss Carryforward  \\\n",
      "0                                             NaN   \n",
      "1                                             NaN   \n",
      "2                                             NaN   \n",
      "3                                             NaN   \n",
      "4                                             NaN   \n",
      "..                                            ...   \n",
      "378                                           NaN   \n",
      "379                                           NaN   \n",
      "380                                           NaN   \n",
      "381                                           NaN   \n",
      "382                                           NaN   \n",
      "\n",
      "     income_Net Income Extraordinary  income_Securities Amortization  \\\n",
      "0                                NaN                             NaN   \n",
      "1                                NaN                             NaN   \n",
      "2                                NaN                             NaN   \n",
      "3                                NaN                             NaN   \n",
      "4                                NaN                             NaN   \n",
      "..                               ...                             ...   \n",
      "378                              NaN                             NaN   \n",
      "379                              NaN                             NaN   \n",
      "380                              NaN                             NaN   \n",
      "381                              NaN                             NaN   \n",
      "382                              NaN                             NaN   \n",
      "\n",
      "     balance_Restricted Common Stock  \n",
      "0                                NaN  \n",
      "1                                NaN  \n",
      "2                                NaN  \n",
      "3                                NaN  \n",
      "4                                NaN  \n",
      "..                               ...  \n",
      "378                              NaN  \n",
      "379                              NaN  \n",
      "380                              NaN  \n",
      "381                              NaN  \n",
      "382                              NaN  \n",
      "\n",
      "[383 rows x 238 columns]\n"
     ]
    },
    {
     "name": "stderr",
     "output_type": "stream",
     "text": [
      "/var/folders/xv/9kt4mb4504d79l2h4mbw11rc0000gn/T/ipykernel_60637/1419372202.py:63: FutureWarning: The behavior of DataFrame concatenation with empty or all-NA entries is deprecated. In a future version, this will no longer exclude empty or all-NA columns when determining the result dtypes. To retain the old behavior, exclude the relevant entries before the concat operation.\n",
      "  final_df = pd.concat(all_dataframes, ignore_index=True)\n"
     ]
    }
   ],
   "source": [
    "import yfinance as yf\n",
    "import pandas as pd\n",
    "from datetime import datetime\n",
    "\n",
    "# Function to retrieve company data for the current date\n",
    "def get_current_data(ticker):\n",
    "    stock = yf.Ticker(ticker)\n",
    "    \n",
    "    # Get the current fundamental data (single latest value)\n",
    "    fundamentals = {\n",
    "        \"ticker\": ticker,\n",
    "        \"date\": datetime.today().strftime('%Y-%m-%d'),\n",
    "        \"pe_ratio\": stock.info.get(\"trailingPE\"),\n",
    "        \"market_cap\": stock.info.get(\"marketCap\"),\n",
    "        \"enterprise_value\": stock.info.get(\"enterpriseValue\"),\n",
    "        \"dividend_yield\": stock.info.get(\"dividendYield\"),\n",
    "        \"price_to_book\": stock.info.get(\"priceToBook\"),\n",
    "        \"current_ratio\": stock.info.get(\"currentRatio\"),\n",
    "        \"quick_ratio\": stock.info.get(\"quickRatio\"),\n",
    "        \"debt_to_equity\": stock.info.get(\"debtToEquity\"),\n",
    "        \"return_on_equity\": stock.info.get(\"returnOnEquity\"),\n",
    "        \"return_on_assets\": stock.info.get(\"returnOnAssets\"),\n",
    "        \"total_cash\": stock.info.get(\"totalCash\"),\n",
    "        \"free_cash_flow\": stock.info.get(\"freeCashflow\")\n",
    "    }\n",
    "\n",
    "    # Get the latest income statement (only current data)\n",
    "    income_statement = stock.financials.T.iloc[0]  # Get the most recent row (current data)\n",
    "    income_data = {f\"income_{col}\": income_statement[col] for col in income_statement.index}\n",
    "\n",
    "    # Get the latest balance sheet data (only current data)\n",
    "    balance_sheet = stock.balance_sheet.T.iloc[0]  # Get the most recent row (current data)\n",
    "    balance_data = {f\"balance_{col}\": balance_sheet[col] for col in balance_sheet.index}\n",
    "\n",
    "    # Combine all data into a single dictionary\n",
    "    all_data = {**fundamentals, **income_data, **balance_data}\n",
    "\n",
    "    # Create a DataFrame from the collected data\n",
    "    company_df = pd.DataFrame([all_data])\n",
    "    return company_df\n",
    "\n",
    "# # List of S&P 500 tickers (you can use an up-to-date source for this)\n",
    "# sp500_tickers = [\n",
    "#     'AAPL', 'MSFT', 'GOOGL', 'AMZN', 'NVDA', 'TSLA', 'META', 'BRK-B', 'V', 'JNJ',\n",
    "#     'WMT', 'JPM', 'PYPL', 'UNH', 'MA', 'HD', 'DIS', 'NVDA', 'VZ', 'NFLX', 'INTC', \n",
    "#     'PEP', 'ADBE', 'KO', 'PFE', 'CSCO', 'MCD', 'INTU', 'ORCL', 'TMO', 'ABT', 'CRM', \n",
    "#     # Add all S&P 500 tickers here...\n",
    "# ]\n",
    "\n",
    "# List to store DataFrames for all tickers\n",
    "all_dataframes = []\n",
    "\n",
    "# Collect data for each S&P 500 ticker\n",
    "for ticker in sp500_tickers:\n",
    "    print(f\"Collecting current data for {ticker}...\")\n",
    "    try:\n",
    "        company_df = get_current_data(ticker)\n",
    "        all_dataframes.append(company_df)\n",
    "    except Exception as e:\n",
    "        print(f\"Error collecting data for {ticker}: {e}\")\n",
    "\n",
    "# Combine all dataframes into a single dataframe\n",
    "final_df = pd.concat(all_dataframes, ignore_index=True)\n",
    "\n",
    "# Display the final dataframe\n",
    "print(final_df)\n",
    "\n",
    "# Optionally save the data to a CSV\n",
    "final_df.to_csv('sp500_current_data.csv', index=False)"
   ]
  },
  {
   "cell_type": "code",
   "execution_count": 99,
   "id": "b1043fa5-0c27-4be0-b2a8-613e0f2efba3",
   "metadata": {},
   "outputs": [
    {
     "data": {
      "text/html": [
       "<div>\n",
       "<style scoped>\n",
       "    .dataframe tbody tr th:only-of-type {\n",
       "        vertical-align: middle;\n",
       "    }\n",
       "\n",
       "    .dataframe tbody tr th {\n",
       "        vertical-align: top;\n",
       "    }\n",
       "\n",
       "    .dataframe thead th {\n",
       "        text-align: right;\n",
       "    }\n",
       "</style>\n",
       "<table border=\"1\" class=\"dataframe\">\n",
       "  <thead>\n",
       "    <tr style=\"text-align: right;\">\n",
       "      <th></th>\n",
       "      <th>ticker</th>\n",
       "      <th>date</th>\n",
       "      <th>pe_ratio</th>\n",
       "      <th>market_cap</th>\n",
       "      <th>enterprise_value</th>\n",
       "      <th>dividend_yield</th>\n",
       "      <th>price_to_book</th>\n",
       "      <th>current_ratio</th>\n",
       "      <th>quick_ratio</th>\n",
       "      <th>debt_to_equity</th>\n",
       "      <th>...</th>\n",
       "      <th>income_Insurance And Claims</th>\n",
       "      <th>balance_Current Deferred Taxes Assets</th>\n",
       "      <th>balance_Dueto Related Parties Non Current</th>\n",
       "      <th>income_Depletion Income Statement</th>\n",
       "      <th>balance_Accrued Interest Receivable</th>\n",
       "      <th>balance_Duefrom Related Parties Non Current</th>\n",
       "      <th>income_Net Income From Tax Loss Carryforward</th>\n",
       "      <th>income_Net Income Extraordinary</th>\n",
       "      <th>income_Securities Amortization</th>\n",
       "      <th>balance_Restricted Common Stock</th>\n",
       "    </tr>\n",
       "  </thead>\n",
       "  <tbody>\n",
       "    <tr>\n",
       "      <th>0</th>\n",
       "      <td>MMM</td>\n",
       "      <td>2025-02-11</td>\n",
       "      <td>20.618458</td>\n",
       "      <td>81266696192</td>\n",
       "      <td>83424100352</td>\n",
       "      <td>0.0199</td>\n",
       "      <td>17.561005</td>\n",
       "      <td>1.431</td>\n",
       "      <td>0.950</td>\n",
       "      <td>295.441</td>\n",
       "      <td>...</td>\n",
       "      <td>NaN</td>\n",
       "      <td>NaN</td>\n",
       "      <td>NaN</td>\n",
       "      <td>NaN</td>\n",
       "      <td>NaN</td>\n",
       "      <td>NaN</td>\n",
       "      <td>NaN</td>\n",
       "      <td>NaN</td>\n",
       "      <td>NaN</td>\n",
       "      <td>NaN</td>\n",
       "    </tr>\n",
       "    <tr>\n",
       "      <th>1</th>\n",
       "      <td>AOS</td>\n",
       "      <td>2025-02-11</td>\n",
       "      <td>18.107439</td>\n",
       "      <td>9530522624</td>\n",
       "      <td>9924186112</td>\n",
       "      <td>0.0196</td>\n",
       "      <td>4.972389</td>\n",
       "      <td>1.673</td>\n",
       "      <td>0.964</td>\n",
       "      <td>7.471</td>\n",
       "      <td>...</td>\n",
       "      <td>NaN</td>\n",
       "      <td>NaN</td>\n",
       "      <td>NaN</td>\n",
       "      <td>NaN</td>\n",
       "      <td>NaN</td>\n",
       "      <td>NaN</td>\n",
       "      <td>NaN</td>\n",
       "      <td>NaN</td>\n",
       "      <td>NaN</td>\n",
       "      <td>NaN</td>\n",
       "    </tr>\n",
       "    <tr>\n",
       "      <th>2</th>\n",
       "      <td>ABT</td>\n",
       "      <td>2025-02-11</td>\n",
       "      <td>17.187172</td>\n",
       "      <td>227751936000</td>\n",
       "      <td>210057101312</td>\n",
       "      <td>0.0202</td>\n",
       "      <td>5.723065</td>\n",
       "      <td>1.597</td>\n",
       "      <td>0.996</td>\n",
       "      <td>37.589</td>\n",
       "      <td>...</td>\n",
       "      <td>NaN</td>\n",
       "      <td>NaN</td>\n",
       "      <td>NaN</td>\n",
       "      <td>NaN</td>\n",
       "      <td>NaN</td>\n",
       "      <td>NaN</td>\n",
       "      <td>NaN</td>\n",
       "      <td>NaN</td>\n",
       "      <td>NaN</td>\n",
       "      <td>NaN</td>\n",
       "    </tr>\n",
       "    <tr>\n",
       "      <th>3</th>\n",
       "      <td>ABBV</td>\n",
       "      <td>2025-02-11</td>\n",
       "      <td>79.308330</td>\n",
       "      <td>336357425152</td>\n",
       "      <td>374475194368</td>\n",
       "      <td>0.0373</td>\n",
       "      <td>55.769115</td>\n",
       "      <td>0.645</td>\n",
       "      <td>0.436</td>\n",
       "      <td>1174.815</td>\n",
       "      <td>...</td>\n",
       "      <td>NaN</td>\n",
       "      <td>NaN</td>\n",
       "      <td>NaN</td>\n",
       "      <td>NaN</td>\n",
       "      <td>NaN</td>\n",
       "      <td>NaN</td>\n",
       "      <td>NaN</td>\n",
       "      <td>NaN</td>\n",
       "      <td>NaN</td>\n",
       "      <td>NaN</td>\n",
       "    </tr>\n",
       "    <tr>\n",
       "      <th>4</th>\n",
       "      <td>ACN</td>\n",
       "      <td>2025-02-11</td>\n",
       "      <td>32.457214</td>\n",
       "      <td>241991958528</td>\n",
       "      <td>217196363776</td>\n",
       "      <td>0.0170</td>\n",
       "      <td>8.551567</td>\n",
       "      <td>1.099</td>\n",
       "      <td>0.984</td>\n",
       "      <td>14.127</td>\n",
       "      <td>...</td>\n",
       "      <td>NaN</td>\n",
       "      <td>NaN</td>\n",
       "      <td>NaN</td>\n",
       "      <td>NaN</td>\n",
       "      <td>NaN</td>\n",
       "      <td>NaN</td>\n",
       "      <td>NaN</td>\n",
       "      <td>NaN</td>\n",
       "      <td>NaN</td>\n",
       "      <td>NaN</td>\n",
       "    </tr>\n",
       "    <tr>\n",
       "      <th>...</th>\n",
       "      <td>...</td>\n",
       "      <td>...</td>\n",
       "      <td>...</td>\n",
       "      <td>...</td>\n",
       "      <td>...</td>\n",
       "      <td>...</td>\n",
       "      <td>...</td>\n",
       "      <td>...</td>\n",
       "      <td>...</td>\n",
       "      <td>...</td>\n",
       "      <td>...</td>\n",
       "      <td>...</td>\n",
       "      <td>...</td>\n",
       "      <td>...</td>\n",
       "      <td>...</td>\n",
       "      <td>...</td>\n",
       "      <td>...</td>\n",
       "      <td>...</td>\n",
       "      <td>...</td>\n",
       "      <td>...</td>\n",
       "      <td>...</td>\n",
       "    </tr>\n",
       "    <tr>\n",
       "      <th>378</th>\n",
       "      <td>PG</td>\n",
       "      <td>2025-02-11</td>\n",
       "      <td>26.676750</td>\n",
       "      <td>392832712704</td>\n",
       "      <td>405945352192</td>\n",
       "      <td>0.0249</td>\n",
       "      <td>7.979139</td>\n",
       "      <td>0.754</td>\n",
       "      <td>0.507</td>\n",
       "      <td>69.338</td>\n",
       "      <td>...</td>\n",
       "      <td>NaN</td>\n",
       "      <td>NaN</td>\n",
       "      <td>NaN</td>\n",
       "      <td>NaN</td>\n",
       "      <td>NaN</td>\n",
       "      <td>NaN</td>\n",
       "      <td>NaN</td>\n",
       "      <td>NaN</td>\n",
       "      <td>NaN</td>\n",
       "      <td>NaN</td>\n",
       "    </tr>\n",
       "    <tr>\n",
       "      <th>379</th>\n",
       "      <td>PGR</td>\n",
       "      <td>2025-02-11</td>\n",
       "      <td>17.327550</td>\n",
       "      <td>146271158272</td>\n",
       "      <td>150343155712</td>\n",
       "      <td>0.0199</td>\n",
       "      <td>5.385545</td>\n",
       "      <td>0.309</td>\n",
       "      <td>0.227</td>\n",
       "      <td>25.375</td>\n",
       "      <td>...</td>\n",
       "      <td>NaN</td>\n",
       "      <td>NaN</td>\n",
       "      <td>NaN</td>\n",
       "      <td>NaN</td>\n",
       "      <td>NaN</td>\n",
       "      <td>NaN</td>\n",
       "      <td>NaN</td>\n",
       "      <td>NaN</td>\n",
       "      <td>NaN</td>\n",
       "      <td>NaN</td>\n",
       "    </tr>\n",
       "    <tr>\n",
       "      <th>380</th>\n",
       "      <td>PLD</td>\n",
       "      <td>2025-02-11</td>\n",
       "      <td>36.093660</td>\n",
       "      <td>110650122240</td>\n",
       "      <td>145402232832</td>\n",
       "      <td>0.0327</td>\n",
       "      <td>2.087359</td>\n",
       "      <td>0.623</td>\n",
       "      <td>0.417</td>\n",
       "      <td>57.079</td>\n",
       "      <td>...</td>\n",
       "      <td>NaN</td>\n",
       "      <td>NaN</td>\n",
       "      <td>NaN</td>\n",
       "      <td>NaN</td>\n",
       "      <td>NaN</td>\n",
       "      <td>NaN</td>\n",
       "      <td>NaN</td>\n",
       "      <td>NaN</td>\n",
       "      <td>NaN</td>\n",
       "      <td>NaN</td>\n",
       "    </tr>\n",
       "    <tr>\n",
       "      <th>381</th>\n",
       "      <td>PRU</td>\n",
       "      <td>2025-02-11</td>\n",
       "      <td>14.945333</td>\n",
       "      <td>39747112960</td>\n",
       "      <td>50307842048</td>\n",
       "      <td>0.0437</td>\n",
       "      <td>1.311684</td>\n",
       "      <td>0.765</td>\n",
       "      <td>0.685</td>\n",
       "      <td>141.510</td>\n",
       "      <td>...</td>\n",
       "      <td>NaN</td>\n",
       "      <td>NaN</td>\n",
       "      <td>NaN</td>\n",
       "      <td>NaN</td>\n",
       "      <td>NaN</td>\n",
       "      <td>NaN</td>\n",
       "      <td>NaN</td>\n",
       "      <td>NaN</td>\n",
       "      <td>NaN</td>\n",
       "      <td>NaN</td>\n",
       "    </tr>\n",
       "    <tr>\n",
       "      <th>382</th>\n",
       "      <td>PEG</td>\n",
       "      <td>2025-02-11</td>\n",
       "      <td>20.611794</td>\n",
       "      <td>41796096000</td>\n",
       "      <td>63659130880</td>\n",
       "      <td>0.0286</td>\n",
       "      <td>2.595687</td>\n",
       "      <td>0.681</td>\n",
       "      <td>0.339</td>\n",
       "      <td>137.098</td>\n",
       "      <td>...</td>\n",
       "      <td>NaN</td>\n",
       "      <td>NaN</td>\n",
       "      <td>NaN</td>\n",
       "      <td>NaN</td>\n",
       "      <td>NaN</td>\n",
       "      <td>NaN</td>\n",
       "      <td>NaN</td>\n",
       "      <td>NaN</td>\n",
       "      <td>NaN</td>\n",
       "      <td>NaN</td>\n",
       "    </tr>\n",
       "  </tbody>\n",
       "</table>\n",
       "<p>383 rows × 238 columns</p>\n",
       "</div>"
      ],
      "text/plain": [
       "    ticker        date   pe_ratio    market_cap enterprise_value  \\\n",
       "0      MMM  2025-02-11  20.618458   81266696192      83424100352   \n",
       "1      AOS  2025-02-11  18.107439    9530522624       9924186112   \n",
       "2      ABT  2025-02-11  17.187172  227751936000     210057101312   \n",
       "3     ABBV  2025-02-11  79.308330  336357425152     374475194368   \n",
       "4      ACN  2025-02-11  32.457214  241991958528     217196363776   \n",
       "..     ...         ...        ...           ...              ...   \n",
       "378     PG  2025-02-11  26.676750  392832712704     405945352192   \n",
       "379    PGR  2025-02-11  17.327550  146271158272     150343155712   \n",
       "380    PLD  2025-02-11  36.093660  110650122240     145402232832   \n",
       "381    PRU  2025-02-11  14.945333   39747112960      50307842048   \n",
       "382    PEG  2025-02-11  20.611794   41796096000      63659130880   \n",
       "\n",
       "     dividend_yield  price_to_book  current_ratio  quick_ratio  \\\n",
       "0            0.0199      17.561005          1.431        0.950   \n",
       "1            0.0196       4.972389          1.673        0.964   \n",
       "2            0.0202       5.723065          1.597        0.996   \n",
       "3            0.0373      55.769115          0.645        0.436   \n",
       "4            0.0170       8.551567          1.099        0.984   \n",
       "..              ...            ...            ...          ...   \n",
       "378          0.0249       7.979139          0.754        0.507   \n",
       "379          0.0199       5.385545          0.309        0.227   \n",
       "380          0.0327       2.087359          0.623        0.417   \n",
       "381          0.0437       1.311684          0.765        0.685   \n",
       "382          0.0286       2.595687          0.681        0.339   \n",
       "\n",
       "     debt_to_equity  ...  income_Insurance And Claims  \\\n",
       "0           295.441  ...                          NaN   \n",
       "1             7.471  ...                          NaN   \n",
       "2            37.589  ...                          NaN   \n",
       "3          1174.815  ...                          NaN   \n",
       "4            14.127  ...                          NaN   \n",
       "..              ...  ...                          ...   \n",
       "378          69.338  ...                          NaN   \n",
       "379          25.375  ...                          NaN   \n",
       "380          57.079  ...                          NaN   \n",
       "381         141.510  ...                          NaN   \n",
       "382         137.098  ...                          NaN   \n",
       "\n",
       "     balance_Current Deferred Taxes Assets  \\\n",
       "0                                      NaN   \n",
       "1                                      NaN   \n",
       "2                                      NaN   \n",
       "3                                      NaN   \n",
       "4                                      NaN   \n",
       "..                                     ...   \n",
       "378                                    NaN   \n",
       "379                                    NaN   \n",
       "380                                    NaN   \n",
       "381                                    NaN   \n",
       "382                                    NaN   \n",
       "\n",
       "    balance_Dueto Related Parties Non Current  \\\n",
       "0                                         NaN   \n",
       "1                                         NaN   \n",
       "2                                         NaN   \n",
       "3                                         NaN   \n",
       "4                                         NaN   \n",
       "..                                        ...   \n",
       "378                                       NaN   \n",
       "379                                       NaN   \n",
       "380                                       NaN   \n",
       "381                                       NaN   \n",
       "382                                       NaN   \n",
       "\n",
       "    income_Depletion Income Statement  balance_Accrued Interest Receivable  \\\n",
       "0                                 NaN                                  NaN   \n",
       "1                                 NaN                                  NaN   \n",
       "2                                 NaN                                  NaN   \n",
       "3                                 NaN                                  NaN   \n",
       "4                                 NaN                                  NaN   \n",
       "..                                ...                                  ...   \n",
       "378                               NaN                                  NaN   \n",
       "379                               NaN                                  NaN   \n",
       "380                               NaN                                  NaN   \n",
       "381                               NaN                                  NaN   \n",
       "382                               NaN                                  NaN   \n",
       "\n",
       "     balance_Duefrom Related Parties Non Current  \\\n",
       "0                                            NaN   \n",
       "1                                            NaN   \n",
       "2                                            NaN   \n",
       "3                                            NaN   \n",
       "4                                            NaN   \n",
       "..                                           ...   \n",
       "378                                          NaN   \n",
       "379                                          NaN   \n",
       "380                                          NaN   \n",
       "381                                          NaN   \n",
       "382                                          NaN   \n",
       "\n",
       "     income_Net Income From Tax Loss Carryforward  \\\n",
       "0                                             NaN   \n",
       "1                                             NaN   \n",
       "2                                             NaN   \n",
       "3                                             NaN   \n",
       "4                                             NaN   \n",
       "..                                            ...   \n",
       "378                                           NaN   \n",
       "379                                           NaN   \n",
       "380                                           NaN   \n",
       "381                                           NaN   \n",
       "382                                           NaN   \n",
       "\n",
       "     income_Net Income Extraordinary  income_Securities Amortization  \\\n",
       "0                                NaN                             NaN   \n",
       "1                                NaN                             NaN   \n",
       "2                                NaN                             NaN   \n",
       "3                                NaN                             NaN   \n",
       "4                                NaN                             NaN   \n",
       "..                               ...                             ...   \n",
       "378                              NaN                             NaN   \n",
       "379                              NaN                             NaN   \n",
       "380                              NaN                             NaN   \n",
       "381                              NaN                             NaN   \n",
       "382                              NaN                             NaN   \n",
       "\n",
       "     balance_Restricted Common Stock  \n",
       "0                                NaN  \n",
       "1                                NaN  \n",
       "2                                NaN  \n",
       "3                                NaN  \n",
       "4                                NaN  \n",
       "..                               ...  \n",
       "378                              NaN  \n",
       "379                              NaN  \n",
       "380                              NaN  \n",
       "381                              NaN  \n",
       "382                              NaN  \n",
       "\n",
       "[383 rows x 238 columns]"
      ]
     },
     "execution_count": 99,
     "metadata": {},
     "output_type": "execute_result"
    }
   ],
   "source": [
    "final_df"
   ]
  },
  {
   "cell_type": "code",
   "execution_count": 101,
   "id": "c1a60043-43a0-48cf-ab51-752cafa995fa",
   "metadata": {},
   "outputs": [
    {
     "data": {
      "text/plain": [
       "42982"
      ]
     },
     "execution_count": 101,
     "metadata": {},
     "output_type": "execute_result"
    }
   ],
   "source": [
    "final_df.isna().sum().sum()"
   ]
  },
  {
   "cell_type": "code",
   "execution_count": null,
   "id": "2355751c-5927-42ac-b0f8-40c7b042d03b",
   "metadata": {},
   "outputs": [],
   "source": []
  }
 ],
 "metadata": {
  "kernelspec": {
   "display_name": "Python 3 (ipykernel)",
   "language": "python",
   "name": "python3"
  },
  "language_info": {
   "codemirror_mode": {
    "name": "ipython",
    "version": 3
   },
   "file_extension": ".py",
   "mimetype": "text/x-python",
   "name": "python",
   "nbconvert_exporter": "python",
   "pygments_lexer": "ipython3",
   "version": "3.12.4"
  }
 },
 "nbformat": 4,
 "nbformat_minor": 5
}
